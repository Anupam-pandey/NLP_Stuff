{
 "cells": [
  {
   "cell_type": "markdown",
   "metadata": {},
   "source": [
    "<center><h1>Assignment 3</h1>\n",
    "<h1> Distributional Semantics and POS Tagging </h1> </center>\n",
    "<hr>\n",
    "<br><b><u>Submitted by:</u><br>\n",
    "Name: Adithya Avvaru<br>\n",
    "Roll No: 20162116\n",
    "</b>"
   ]
  },
  {
   "cell_type": "markdown",
   "metadata": {},
   "source": [
    "<h1> Latent Symantic Analysis </h1>"
   ]
  },
  {
   "cell_type": "code",
   "execution_count": 20,
   "metadata": {
    "collapsed": true
   },
   "outputs": [],
   "source": [
    "import io\n",
    "from pprint import pprint\n",
    "from time import time\n",
    "def get_unigrams(file_name):\n",
    "    unigrams = {}\n",
    "    with io.open(file_name, encoding='utf8', errors='ignore') as f:\n",
    "        for line in f:\n",
    "            tokens = line.strip().split()\n",
    "            \n",
    "            # Added to extract only Verbs\n",
    "            # verbs = nltk.pos_tag(tokens)\n",
    "            # tokens = set([x for x,y in verbs if \"VB\" in y]) \n",
    "            \n",
    "            for token in tokens:\n",
    "                token = token.lower()\n",
    "                try:\n",
    "                    unigrams[token]\n",
    "                except:\n",
    "                    unigrams[token] = 0\n",
    "                unigrams[token] += 1\n",
    "                \n",
    "    return unigrams\n",
    "\n",
    "def index_unigrams(unigrams):\n",
    "    new_unigrams = {}\n",
    "    reverse_unigrams = {}\n",
    "    for index, unigram in enumerate(unigrams):\n",
    "        new_unigrams[unigram] = index\n",
    "        reverse_unigrams[index] = unigram\n",
    "    return new_unigrams, reverse_unigrams\n",
    "            "
   ]
  },
  {
   "cell_type": "code",
   "execution_count": 21,
   "metadata": {},
   "outputs": [],
   "source": [
    "file_name = \"sample_corpus.txt\"\n",
    "unigrams = get_unigrams(file_name)\n",
    "iunigrams,runigrams = index_unigrams(unigrams)\n",
    "unigrams = sorted(unigrams.items(), key = lambda x: x[1], reverse = True )\n",
    "\n",
    "#pprint(unigrams) # Figure out non-stop words\n",
    "dimensions = [x[0] for x in unigrams[100:3100]]\n",
    "idimensions = {x: index for index, x in enumerate(dimensions)}"
   ]
  },
  {
   "cell_type": "code",
   "execution_count": 29,
   "metadata": {
    "collapsed": true
   },
   "outputs": [],
   "source": [
    "import numpy\n",
    "import nltk\n",
    "from nltk import word_tokenize\n",
    "\n",
    "def populate_cmatrix(file_name,iunigrams, dimensions, window, leftonly, rightonly):\n",
    "    e = 0\n",
    "    s = 0\n",
    "    cmatrix = numpy.memmap(\"lsa.cmatrix\", dtype='float32', mode='w+', shape=(len(unigrams),len(dimensions)))\n",
    "    with open(file_name, encoding='utf-8', errors='ignore') as f:\n",
    "        for index, line in enumerate(f):             \n",
    "            tokens = line.strip().split()\n",
    "            for indexj, token in enumerate(tokens):\n",
    "                token = token.lower()\n",
    "                lcontext = rcontext = \"\"\n",
    "                if leftonly :\n",
    "                    lcontext = tokens[indexj - window:indexj]\n",
    "                else:\n",
    "                    lcontext = []\n",
    "                if rightonly:\n",
    "                    rcontext = tokens[indexj + 1:index + window]\n",
    "                else:\n",
    "                    rcontext = []\n",
    "                context = [tok.lower() for tok in lcontext + rcontext]\n",
    "                \n",
    "                #verbs = nltk.pos_tag(context)\n",
    "                #context = set([x for x,y in verbs if \"VB\" in y]) \n",
    "                \n",
    "                try:\n",
    "                    unigram_index = iunigrams[token]                    \n",
    "                    for d in context:\n",
    "                        #print(nltk.pos_tag([d]))\n",
    "                        \n",
    "                        if d in dimensions:\n",
    "                            j = dimensions[d]\n",
    "                            cmatrix[unigram_index][j] += 1 \n",
    "                            s += 1\n",
    "                except:\n",
    "                    e += 1\n",
    "    #print(e,s)\n",
    "    return cmatrix"
   ]
  },
  {
   "cell_type": "code",
   "execution_count": 30,
   "metadata": {
    "collapsed": true
   },
   "outputs": [],
   "source": [
    "from scipy.spatial.distance import *\n",
    "from numpy import linalg as LA\n",
    "import numpy as np\n",
    "from sklearn.decomposition import TruncatedSVD"
   ]
  },
  {
   "cell_type": "code",
   "execution_count": 24,
   "metadata": {
    "collapsed": true
   },
   "outputs": [],
   "source": [
    "def getDistance(twod_cmatrix):\n",
    "    words = [\"boy\",\"sunday\",\"eat\",\"good\",\"slowly\",\"100\"]\n",
    "    for w1 in words:\n",
    "        distance = {}\n",
    "        for w2 in idimensions:\n",
    "            if w1 == w2:\n",
    "                continue\n",
    "            id1 = iunigrams[w1]\n",
    "            id2 = iunigrams[w2]\n",
    "            v1, v2 = twod_cmatrix[id1], twod_cmatrix[id2]\n",
    "            if np.linalg.norm(v2) == 0:\n",
    "                continue\n",
    "            distance[w2] = cosine(v1,v2)\n",
    "        sortedDistance = sorted(distance.items(), key = lambda x : x[1], reverse = False)\n",
    "        \n",
    "        temp = dict((x, y) for x, y in sortedDistance[:10])  # For top 10 elements\n",
    "        \n",
    "        print(w1)\n",
    "        print(list(temp.keys()))"
   ]
  },
  {
   "cell_type": "code",
   "execution_count": 25,
   "metadata": {
    "collapsed": true
   },
   "outputs": [],
   "source": [
    "def run(windowSize=2, noComp=10, leftOnly=True, rightOnly=True):\n",
    "    s = time()\n",
    "    cmatrix = populate_cmatrix(file_name, iunigrams, idimensions, window = windowSize, \\\n",
    "                               leftonly = leftOnly, rightonly = rightOnly)\n",
    "    svd = TruncatedSVD(n_components = noComp, random_state=42)\n",
    "    svd.fit(cmatrix)\n",
    "    twod_cmatrix = svd.transform(cmatrix)\n",
    "    \n",
    "    print(\"Window :\",windowSize,\"; No components :\", noComp, \"; Left only :\", leftOnly, \"; Right only :\", rightOnly)\n",
    "    print(\"-----------------------------------------------------------------------\")\n",
    "    print(\"Time taken is ---- \", (time()-s))\n",
    "    getDistance(twod_cmatrix)"
   ]
  },
  {
   "cell_type": "code",
   "execution_count": 28,
   "metadata": {},
   "outputs": [
    {
     "ename": "TypeError",
     "evalue": "'errors' is an invalid keyword argument for this function",
     "output_type": "error",
     "traceback": [
      "\u001b[0;31m---------------------------------------------------------------------------\u001b[0m",
      "\u001b[0;31mTypeError\u001b[0m                                 Traceback (most recent call last)",
      "\u001b[0;32m<ipython-input-28-e1ca7e70a06f>\u001b[0m in \u001b[0;36m<module>\u001b[0;34m()\u001b[0m\n\u001b[0;32m----> 1\u001b[0;31m \u001b[0mrun\u001b[0m\u001b[0;34m(\u001b[0m\u001b[0mwindowSize\u001b[0m\u001b[0;34m=\u001b[0m\u001b[0;36m2\u001b[0m\u001b[0;34m,\u001b[0m \u001b[0mnoComp\u001b[0m\u001b[0;34m=\u001b[0m\u001b[0;36m10\u001b[0m\u001b[0;34m)\u001b[0m\u001b[0;34m\u001b[0m\u001b[0m\n\u001b[0m",
      "\u001b[0;32m<ipython-input-25-52319b6764d4>\u001b[0m in \u001b[0;36mrun\u001b[0;34m(windowSize, noComp, leftOnly, rightOnly)\u001b[0m\n\u001b[1;32m      1\u001b[0m \u001b[0;32mdef\u001b[0m \u001b[0mrun\u001b[0m\u001b[0;34m(\u001b[0m\u001b[0mwindowSize\u001b[0m\u001b[0;34m=\u001b[0m\u001b[0;36m2\u001b[0m\u001b[0;34m,\u001b[0m \u001b[0mnoComp\u001b[0m\u001b[0;34m=\u001b[0m\u001b[0;36m10\u001b[0m\u001b[0;34m,\u001b[0m \u001b[0mleftOnly\u001b[0m\u001b[0;34m=\u001b[0m\u001b[0mTrue\u001b[0m\u001b[0;34m,\u001b[0m \u001b[0mrightOnly\u001b[0m\u001b[0;34m=\u001b[0m\u001b[0mTrue\u001b[0m\u001b[0;34m)\u001b[0m\u001b[0;34m:\u001b[0m\u001b[0;34m\u001b[0m\u001b[0m\n\u001b[1;32m      2\u001b[0m     \u001b[0ms\u001b[0m \u001b[0;34m=\u001b[0m \u001b[0mtime\u001b[0m\u001b[0;34m(\u001b[0m\u001b[0;34m)\u001b[0m\u001b[0;34m\u001b[0m\u001b[0m\n\u001b[0;32m----> 3\u001b[0;31m     \u001b[0mcmatrix\u001b[0m \u001b[0;34m=\u001b[0m \u001b[0mpopulate_cmatrix\u001b[0m\u001b[0;34m(\u001b[0m\u001b[0mfile_name\u001b[0m\u001b[0;34m,\u001b[0m \u001b[0miunigrams\u001b[0m\u001b[0;34m,\u001b[0m \u001b[0midimensions\u001b[0m\u001b[0;34m,\u001b[0m \u001b[0mwindow\u001b[0m \u001b[0;34m=\u001b[0m \u001b[0mwindowSize\u001b[0m\u001b[0;34m,\u001b[0m                                \u001b[0mleftonly\u001b[0m \u001b[0;34m=\u001b[0m \u001b[0mleftOnly\u001b[0m\u001b[0;34m,\u001b[0m \u001b[0mrightonly\u001b[0m \u001b[0;34m=\u001b[0m \u001b[0mrightOnly\u001b[0m\u001b[0;34m)\u001b[0m\u001b[0;34m\u001b[0m\u001b[0m\n\u001b[0m\u001b[1;32m      4\u001b[0m     \u001b[0msvd\u001b[0m \u001b[0;34m=\u001b[0m \u001b[0mTruncatedSVD\u001b[0m\u001b[0;34m(\u001b[0m\u001b[0mn_components\u001b[0m \u001b[0;34m=\u001b[0m \u001b[0mnoComp\u001b[0m\u001b[0;34m,\u001b[0m \u001b[0mrandom_state\u001b[0m\u001b[0;34m=\u001b[0m\u001b[0;36m42\u001b[0m\u001b[0;34m)\u001b[0m\u001b[0;34m\u001b[0m\u001b[0m\n\u001b[1;32m      5\u001b[0m     \u001b[0msvd\u001b[0m\u001b[0;34m.\u001b[0m\u001b[0mfit\u001b[0m\u001b[0;34m(\u001b[0m\u001b[0mcmatrix\u001b[0m\u001b[0;34m)\u001b[0m\u001b[0;34m\u001b[0m\u001b[0m\n",
      "\u001b[0;32m<ipython-input-22-c3e797abc611>\u001b[0m in \u001b[0;36mpopulate_cmatrix\u001b[0;34m(file_name, iunigrams, dimensions, window, leftonly, rightonly)\u001b[0m\n\u001b[1;32m      7\u001b[0m     \u001b[0ms\u001b[0m \u001b[0;34m=\u001b[0m \u001b[0;36m0\u001b[0m\u001b[0;34m\u001b[0m\u001b[0m\n\u001b[1;32m      8\u001b[0m     \u001b[0mcmatrix\u001b[0m \u001b[0;34m=\u001b[0m \u001b[0mnumpy\u001b[0m\u001b[0;34m.\u001b[0m\u001b[0mmemmap\u001b[0m\u001b[0;34m(\u001b[0m\u001b[0;34m\"lsa.cmatrix\"\u001b[0m\u001b[0;34m,\u001b[0m \u001b[0mdtype\u001b[0m\u001b[0;34m=\u001b[0m\u001b[0;34m'float32'\u001b[0m\u001b[0;34m,\u001b[0m \u001b[0mmode\u001b[0m\u001b[0;34m=\u001b[0m\u001b[0;34m'w+'\u001b[0m\u001b[0;34m,\u001b[0m \u001b[0mshape\u001b[0m\u001b[0;34m=\u001b[0m\u001b[0;34m(\u001b[0m\u001b[0mlen\u001b[0m\u001b[0;34m(\u001b[0m\u001b[0munigrams\u001b[0m\u001b[0;34m)\u001b[0m\u001b[0;34m,\u001b[0m\u001b[0mlen\u001b[0m\u001b[0;34m(\u001b[0m\u001b[0mdimensions\u001b[0m\u001b[0;34m)\u001b[0m\u001b[0;34m)\u001b[0m\u001b[0;34m)\u001b[0m\u001b[0;34m\u001b[0m\u001b[0m\n\u001b[0;32m----> 9\u001b[0;31m     \u001b[0;32mwith\u001b[0m \u001b[0mopen\u001b[0m\u001b[0;34m(\u001b[0m\u001b[0mfile_name\u001b[0m\u001b[0;34m,\u001b[0m \u001b[0mencoding\u001b[0m\u001b[0;34m=\u001b[0m\u001b[0;34m'utf-8'\u001b[0m\u001b[0;34m,\u001b[0m \u001b[0merrors\u001b[0m\u001b[0;34m=\u001b[0m\u001b[0;34m'ignore'\u001b[0m\u001b[0;34m)\u001b[0m \u001b[0;32mas\u001b[0m \u001b[0mf\u001b[0m\u001b[0;34m:\u001b[0m\u001b[0;34m\u001b[0m\u001b[0m\n\u001b[0m\u001b[1;32m     10\u001b[0m         \u001b[0;32mfor\u001b[0m \u001b[0mindex\u001b[0m\u001b[0;34m,\u001b[0m \u001b[0mline\u001b[0m \u001b[0;32min\u001b[0m \u001b[0menumerate\u001b[0m\u001b[0;34m(\u001b[0m\u001b[0mf\u001b[0m\u001b[0;34m)\u001b[0m\u001b[0;34m:\u001b[0m\u001b[0;34m\u001b[0m\u001b[0m\n\u001b[1;32m     11\u001b[0m             \u001b[0mtokens\u001b[0m \u001b[0;34m=\u001b[0m \u001b[0mline\u001b[0m\u001b[0;34m.\u001b[0m\u001b[0mstrip\u001b[0m\u001b[0;34m(\u001b[0m\u001b[0;34m)\u001b[0m\u001b[0;34m.\u001b[0m\u001b[0msplit\u001b[0m\u001b[0;34m(\u001b[0m\u001b[0;34m)\u001b[0m\u001b[0;34m\u001b[0m\u001b[0m\n",
      "\u001b[0;31mTypeError\u001b[0m: 'errors' is an invalid keyword argument for this function"
     ]
    }
   ],
   "source": [
    "run(windowSize=2, noComp=10)"
   ]
  },
  {
   "cell_type": "code",
   "execution_count": 66,
   "metadata": {},
   "outputs": [
    {
     "name": "stdout",
     "output_type": "stream",
     "text": [
      "Window : 2 ; No components : 50 ; Left only : True ; Right only : True\n",
      "-----------------------------------------------------------------------\n",
      "Time taken is ----  58.586092472076416\n",
      "boy\n",
      "['him', 'dear', 'saw', 'green', 'dream', 'sought', 'sea', 'daughter', 'mother', 'wood']\n",
      "sunday\n",
      "['th', 'june', '11th', 'september', '4th', 'acts', 'morning', 'saturday', 'evening', '1st']\n",
      "eat\n",
      "['sleep', 'good', \"'ll\", 'just', 'did', 'try', 'looks', 'saying', 'fun', 'bit']\n",
      "good\n",
      "['yet', 'great', 'even', 'getting', 'because', 'said', 'way', 'really', 'watching', 'again']\n",
      "slowly\n",
      "['becomes', 'around', 'ice', 'red', 'far', 'bird', 'unfortunately', 'idea', 'exposure', 'brand']\n",
      "100\n",
      "['capacity', 'length', 'column', '1000', 'cm', 'document', '1', 'mm', '=', '10']\n"
     ]
    }
   ],
   "source": [
    "run(windowSize=2, noComp=50)"
   ]
  },
  {
   "cell_type": "code",
   "execution_count": 67,
   "metadata": {},
   "outputs": [
    {
     "name": "stdout",
     "output_type": "stream",
     "text": [
      "Window : 2 ; No components : 100 ; Left only : True ; Right only : True\n",
      "-----------------------------------------------------------------------\n",
      "Time taken is ----  54.68529272079468\n",
      "boy\n",
      "['him', 'saw', 'dear', 'arms', 'green', 'dream', 'wood', 'sea', 'daughter', 'sought']\n",
      "sunday\n",
      "['bible', 'evening', 'saturday', '11th', '4th', 'acts', 'morning', 'john', 'june', '1st']\n",
      "eat\n",
      "['just', \"'re\", 'think', 'bit', 'did', 'try', 'looks', 'lot', 'fun', 'thing']\n",
      "good\n",
      "['yet', 'saw', \"'ll\", 'again', 'well', 'make', 'really', 'got', 'said', 'way']\n",
      "slowly\n",
      "['properly', 'try', 'fact', 'unfortunately', 'fit', 'real', 'strength', 'watching', 'seem', 'enough']\n",
      "100\n",
      "['capacity', 'pp', 'length', '1000', 'document', 'cm', '1', 'mm', '=', '10']\n"
     ]
    }
   ],
   "source": [
    "run(windowSize=2, noComp=100)"
   ]
  },
  {
   "cell_type": "code",
   "execution_count": 68,
   "metadata": {},
   "outputs": [
    {
     "name": "stdout",
     "output_type": "stream",
     "text": [
      "Window : 2 ; No components : 200 ; Left only : True ; Right only : True\n",
      "-----------------------------------------------------------------------\n",
      "Time taken is ----  60.26724600791931\n",
      "boy\n",
      "['true', 'him', 'green', 'dear', 'dream', 'wood', 'sea', 'daughter', 'mother', 'sought']\n",
      "sunday\n",
      "['bible', 'evening', '2nd', '11th', '4th', 'acts', 'morning', 'saturday', 'june', '1st']\n",
      "eat\n",
      "['bit', \"'ll\", 'think', 'just', 'did', 'feel', 'good', 'saying', 'fun', 'thing']\n",
      "good\n",
      "['yet', 'saw', 'said', 'again', 'well', 'got', 'idea', 'really', 'true', \"'ll\"]\n",
      "slowly\n",
      "['try', 'around', 'fact', 'enough', 'near', 'unfortunately', 'another', 'however', 'worker', 'take']\n",
      "100\n",
      "['capacity', 'volume', 'length', '1000', 'document', '1', 'mm', 'cm', '=', '10']\n"
     ]
    }
   ],
   "source": [
    "run(windowSize=2, noComp=200)"
   ]
  },
  {
   "cell_type": "code",
   "execution_count": 69,
   "metadata": {},
   "outputs": [
    {
     "name": "stdout",
     "output_type": "stream",
     "text": [
      "Window : 5 ; No components : 10 ; Left only : True ; Right only : True\n",
      "-----------------------------------------------------------------------\n",
      "Time taken is ----  54.401859283447266\n",
      "boy\n",
      "['reader', 'minutes', 'forced', 'birds', 'miles', 'rain', 'nursing', 'speaker', 'chair', 'ian']\n",
      "sunday\n",
      "['component', '17th', 'seminar', 'routes', 'ford', 'morning', 'saturday', 'director', 'supplied', '1st']\n",
      "eat\n",
      "['happen', 'worry', 'think', 'wanted', \"'ve\", \"'re\", 'me', 'saying', 'sit', \"'ll\"]\n",
      "good\n",
      "['though', 'him', 'getting', 'god', 'always', 'might', 'miss', 'right', 'went', 'fear']\n",
      "slowly\n",
      "['encouraged', 'surely', 'becomes', 'turning', 'vast', 'unfortunately', 'meant', 'confidence', 'helpful', 'understanding']\n",
      "100\n",
      "['n', 'hotels', 'column', 'mm', 'black', 'cm', 'white', '1000', '=', '90']\n"
     ]
    }
   ],
   "source": [
    "run(windowSize=5, noComp=10) "
   ]
  },
  {
   "cell_type": "code",
   "execution_count": 70,
   "metadata": {},
   "outputs": [
    {
     "name": "stdout",
     "output_type": "stream",
     "text": [
      "Window : 5 ; No components : 50 ; Left only : True ; Right only : True\n",
      "-----------------------------------------------------------------------\n",
      "Time taken is ----  58.407567262649536\n",
      "boy\n",
      "['him', 'drink', 'dear', 'saw', 'green', 'dream', 'wood', 'saying', 'mother', 'sought']\n",
      "sunday\n",
      "['bible', 'th', 'june', '11th', '4th', 'acts', 'morning', 'saturday', 'evening', '1st']\n",
      "eat\n",
      "['just', 'worry', 'did', \"'ll\", 'lot', 'try', \"'re\", 'saying', 'moment', 'again']\n",
      "good\n",
      "['because', 'even', 'getting', 'might', 'just', 'idea', 'really', 'watching', 'again', 'way']\n",
      "slowly\n",
      "['means', 'simply', 'right', 'point', 'unfortunately', 'idea', 'takes', 'atmosphere', 'situation', 'probably']\n",
      "100\n",
      "['capacity', 'length', 'column', '1000', 'cm', 'document', '1', 'mm', '=', '10']\n"
     ]
    }
   ],
   "source": [
    "run(windowSize=5, noComp=50) "
   ]
  },
  {
   "cell_type": "code",
   "execution_count": 71,
   "metadata": {},
   "outputs": [
    {
     "name": "stdout",
     "output_type": "stream",
     "text": [
      "Window : 5 ; No components : 100 ; Left only : True ; Right only : True\n",
      "-----------------------------------------------------------------------\n",
      "Time taken is ----  59.312278032302856\n",
      "boy\n",
      "['him', 'green', 'arms', 'saw', 'dear', 'dream', 'wood', 'saying', 'daughter', 'sought']\n",
      "sunday\n",
      "['bible', 'evening', 'saturday', '11th', '4th', 'acts', 'morning', 'john', 'june', '1st']\n",
      "eat\n",
      "['just', \"'re\", 'think', 'try', 'did', 'got', 'lot', 'again', 'thing', 'bit']\n",
      "good\n",
      "['yet', 'make', 'little', \"'ll\", 'well', 'just', 'got', 'way', 'said', 'again']\n",
      "slowly\n",
      "['try', 'feeling', 'fact', 'watching', 'fit', 'real', 'enough', 'takes', 'right', 'take']\n",
      "100\n",
      "['capacity', 'volume', 'length', '1000', 'document', '1', 'mm', 'cm', '=', '10']\n"
     ]
    }
   ],
   "source": [
    "run(windowSize=5, noComp=100) "
   ]
  },
  {
   "cell_type": "code",
   "execution_count": 72,
   "metadata": {},
   "outputs": [
    {
     "name": "stdout",
     "output_type": "stream",
     "text": [
      "Window : 5 ; No components : 200 ; Left only : True ; Right only : True\n",
      "-----------------------------------------------------------------------\n",
      "Time taken is ----  63.86641335487366\n",
      "boy\n",
      "['him', 'green', 'saw', 'dear', 'dream', 'wood', 'sea', 'daughter', 'mother', 'sought']\n",
      "sunday\n",
      "['bible', 'evening', '2nd', '11th', '4th', 'acts', 'morning', 'saturday', 'june', '1st']\n",
      "eat\n",
      "[\"'ll\", 'thing', 'lot', 'again', 'just', 'did', 'got', 'saying', 'seemed', 'getting']\n",
      "good\n",
      "['yet', 'saw', 'again', 'well', 'though', 'really', 'got', 'idea', 'said', \"'ll\"]\n",
      "slowly\n",
      "['make', 'move', 'even', 'fact', 'either', 'want', 'however', 'enough', 'broken', 'take']\n",
      "100\n",
      "['capacity', 'volume', 'length', '1000', 'document', '1', 'mm', 'cm', '=', '10']\n"
     ]
    }
   ],
   "source": [
    "run(windowSize=5, noComp=200) "
   ]
  },
  {
   "cell_type": "code",
   "execution_count": 73,
   "metadata": {},
   "outputs": [
    {
     "name": "stdout",
     "output_type": "stream",
     "text": [
      "Window : 10 ; No components : 10 ; Left only : True ; Right only : True\n",
      "-----------------------------------------------------------------------\n",
      "Time taken is ----  57.13647532463074\n",
      "boy\n",
      "['week', 'tv', 'little', 'mr.', 'finds', 'see', 'sea', 'headed', 'private', 'tea']\n",
      "sunday\n",
      "['component', 'seminar', 'routes', 'ford', 'psychology', 'morning', 'saturday', '11th', 'dates', '1st']\n",
      "eat\n",
      "['thing', 'worry', \"'ve\", 'think', \"'re\", 'saying', 'someone', 'me', 'tell', 'paying']\n",
      "good\n",
      "['though', 'him', 'saw', 'little', 'see', 'god', 'always', 'something', 'everyone', 'went']\n",
      "slowly\n",
      "['statutory', 'certain', 'understanding', 'confidence', 'developed', 'speak', 'respond', 'entirely', 'managers', 'compensation']\n",
      "100\n",
      "['black', 'n', 'column', 'mm', 'cm', 'irish', 'white', '1000', '=', '90']\n"
     ]
    }
   ],
   "source": [
    "run(windowSize=10, noComp=10) "
   ]
  },
  {
   "cell_type": "code",
   "execution_count": 74,
   "metadata": {},
   "outputs": [
    {
     "name": "stdout",
     "output_type": "stream",
     "text": [
      "Window : 10 ; No components : 50 ; Left only : True ; Right only : True\n",
      "-----------------------------------------------------------------------\n",
      "Time taken is ----  64.65309500694275\n",
      "boy\n",
      "['him', 'green', 'took', 'dear', 'dream', 'sought', 'sea', 'daughter', 'mother', 'wood']\n",
      "sunday\n",
      "['bible', 'th', 'june', '11th', '4th', 'acts', 'morning', 'saturday', 'evening', '1st']\n",
      "eat\n",
      "['just', 'worry', \"'ll\", 'stop', 'bit', \"'re\", 'good', 'lot', 'fun', 'again']\n",
      "good\n",
      "['something', 'yet', 'even', 'getting', 'long', 'idea', 'really', 'watching', 'while', 'way']\n",
      "slowly\n",
      "['means', 'becomes', 'fact', 'whole', 'positive', 'negative', 'real', 'gets', 'atmosphere', 'situation']\n",
      "100\n",
      "['capacity', 'length', 'column', '1000', 'cm', 'document', '1', 'mm', '=', '10']\n"
     ]
    }
   ],
   "source": [
    "run(windowSize=10, noComp=50) "
   ]
  },
  {
   "cell_type": "code",
   "execution_count": 75,
   "metadata": {},
   "outputs": [
    {
     "name": "stdout",
     "output_type": "stream",
     "text": [
      "Window : 10 ; No components : 100 ; Left only : True ; Right only : True\n",
      "-----------------------------------------------------------------------\n",
      "Time taken is ----  63.01830506324768\n",
      "boy\n",
      "['him', 'green', 'saw', 'dear', 'dream', 'wood', 'sea', 'daughter', 'mother', 'sought']\n",
      "sunday\n",
      "['bible', 'evening', 'saturday', '11th', '4th', 'acts', 'morning', 'john', 'june', '1st']\n",
      "eat\n",
      "[\"'re\", 'just', 'again', 'think', 'bit', 'did', 'too', 'lot', 'fun', 'getting']\n",
      "good\n",
      "['yet', 'make', 'again', 'well', 'little', 'just', 'long', 'said', 'while', 'way']\n",
      "slowly\n",
      "['try', 'feeling', 'fact', 'whole', 'positive', 'fit', 'real', 'spot', 'difficulties', 'take']\n",
      "100\n",
      "['capacity', 'volume', 'length', '1000', 'document', '1', 'mm', 'cm', '=', '10']\n"
     ]
    }
   ],
   "source": [
    "run(windowSize=10, noComp=100) "
   ]
  },
  {
   "cell_type": "code",
   "execution_count": 76,
   "metadata": {},
   "outputs": [
    {
     "name": "stdout",
     "output_type": "stream",
     "text": [
      "Window : 10 ; No components : 200 ; Left only : True ; Right only : True\n",
      "-----------------------------------------------------------------------\n",
      "Time taken is ----  70.83616185188293\n",
      "boy\n",
      "['saw', 'green', 'dear', 'him', 'mother', 'dream', 'wood', 'sea', 'daughter', 'sought']\n",
      "sunday\n",
      "['bible', 'evening', '11th', 'pub', '4th', 'acts', 'morning', 'saturday', 'june', '1st']\n",
      "eat\n",
      "['just', 'got', 'again', 'think', 'bit', 'did', 'feel', 'saying', 'fun', 'because']\n",
      "good\n",
      "['yet', 'saw', 'again', 'well', 'though', 'really', 'got', 'idea', 'said', \"'ll\"]\n",
      "slowly\n",
      "['through', 'feeling', 'move', 'fact', 'whole', 'way', 'difficulties', 'bring', 'take', 'enough']\n",
      "100\n",
      "['capacity', 'volume', 'length', '1000', '1', 'document', 'mm', 'cm', '=', '10']\n"
     ]
    }
   ],
   "source": [
    "run(windowSize=10, noComp=200) "
   ]
  },
  {
   "cell_type": "code",
   "execution_count": 64,
   "metadata": {},
   "outputs": [
    {
     "name": "stdout",
     "output_type": "stream",
     "text": [
      "Window : 2 ; No components : 10 ; Left only : True ; Right only : False\n",
      "-----------------------------------------------------------------------\n",
      "Time taken is ----  13.201389074325562\n",
      "boy\n",
      "['complex', 'leadership', 'affected', 'cities', 'tv', 'farm', 'customers', 'lies', 'private', 'income']\n",
      "sunday\n",
      "['initial', 'contains', 'except', 'discussed', 'gender', 'managed', 'host', 'indeed', 'involves', 'writers']\n",
      "eat\n",
      "['encouraged', 'carried', 'support', 'influence', 'recognise', 'white', 'relatively', 'run', 'require', 'owned']\n",
      "good\n",
      "['anything', 'doing', 'gone', 'going', 'safe', 'got', 'seems', 'getting', 'presented', 'another']\n",
      "slowly\n",
      "['transfer', 'close', 'control', 'foot', 'hundreds', 'thinking', 'rest', 'down', 'draft', 'routes']\n",
      "100\n",
      "['evolution', 'fax', 'africa', 'west', 'asia', 'g.', 'september', 'ireland', 'japan', 'circuit']\n"
     ]
    }
   ],
   "source": [
    "run(windowSize=2, noComp=10, leftOnly=True, rightOnly=False)"
   ]
  },
  {
   "cell_type": "code",
   "execution_count": 77,
   "metadata": {},
   "outputs": [
    {
     "name": "stdout",
     "output_type": "stream",
     "text": [
      "Window : 2 ; No components : 50 ; Left only : True ; Right only : False\n",
      "-----------------------------------------------------------------------\n",
      "Time taken is ----  15.383311986923218\n",
      "boy\n",
      "['instance', 'exercise', 'party', 'case', 'weekly', 'day', 'farm', 'movie', 'aspect', 'player']\n",
      "sunday\n",
      "['simply', 'organised', 'appointed', 'qualified', 'added', 'henry', 'crisis', 'planned', 'established', 'brought']\n",
      "eat\n",
      "['affect', 'soul', 'default', 'mean', 'require', 'expect', 'draw', 'exist', 'seem', 'tell']\n",
      "good\n",
      "['great', 'little', 'perfect', 'much', 'extra', 'unique', 'own', 'watching', 'clear', 'another']\n",
      "slowly\n",
      "['formal', 'reading', 'thanks', 'through', 'advice', 'quick', 'teach', 'spend', 'down', 'touch']\n",
      "100\n",
      "['pp', 'k', 'march', '5', '3', 'december', '7.', 'assessed', 'april', '10']\n"
     ]
    }
   ],
   "source": [
    "run(windowSize=2, noComp=50, leftOnly=True, rightOnly=False)"
   ]
  },
  {
   "cell_type": "code",
   "execution_count": 78,
   "metadata": {},
   "outputs": [
    {
     "name": "stdout",
     "output_type": "stream",
     "text": [
      "Window : 2 ; No components : 100 ; Left only : True ; Right only : False\n",
      "-----------------------------------------------------------------------\n",
      "Time taken is ----  17.163907289505005\n",
      "boy\n",
      "['truly', 'instance', 'piece', 'manufacturer', 'day', 'nation', 'linux', 'vision', 'sequence', 'aspect']\n",
      "sunday\n",
      "['simply', 'henry', 'qualified', 'placed', 'sometimes', 'maintained', 'helping', 'organised', 'brought', 'crew']\n",
      "eat\n",
      "['come', 'affect', 'exist', 'default', 'mean', 'recognise', 'expect', 'draw', 'tell', 'seem']\n",
      "good\n",
      "['great', 'useful', 'particularly', 'quite', 'warm', 'much', 'happy', 'long', 'strong', 'busy']\n",
      "slowly\n",
      "['mortgage', 'capital', 'feeling', 'killed', 'price', 'lost', 'chance', 'thanks', 'touch', 'assist']\n",
      "100\n",
      "['pp', 'assessed', 'cm', 'philosophy', '3', 'legislation', '1000', '2', '10', '7.']\n"
     ]
    }
   ],
   "source": [
    "run(windowSize=2, noComp=100, leftOnly=True, rightOnly=False)"
   ]
  },
  {
   "cell_type": "code",
   "execution_count": 79,
   "metadata": {},
   "outputs": [
    {
     "name": "stdout",
     "output_type": "stream",
     "text": [
      "Window : 2 ; No components : 200 ; Left only : True ; Right only : False\n",
      "-----------------------------------------------------------------------\n",
      "Time taken is ----  21.108182668685913\n",
      "boy\n",
      "['truly', 'instance', 'piece', 'vision', 'knows', 'song', 'nation', 'day', 'sequence', 'aspect']\n",
      "sunday\n",
      "['talks', '17th', 'june', 'october', '19th', 'november', 'morning', 'september', 'july', 'january']\n",
      "eat\n",
      "['draw', 'scott', 'aged', 'young', 'speak', 'fantastic', 'publishing', 'cannot', 'adults', 'expect']\n",
      "good\n",
      "['slightly', 'nice', 'accurate', 'remain', 'relatively', 'unique', 'useful', 'excellent', 'significant', 'behind']\n",
      "slowly\n",
      "['feeling', 'cup', 'touch', 'killed', 'involved', 'summit', 'bank', 'thanks', 'heritage', 'assist']\n",
      "100\n",
      "['pp', 'assessed', '1000', 'philosophy', 'cm', '2007', 'december', '2', '10', '7.']\n"
     ]
    }
   ],
   "source": [
    "run(windowSize=2, noComp=200, leftOnly=True, rightOnly=False)"
   ]
  },
  {
   "cell_type": "code",
   "execution_count": 80,
   "metadata": {},
   "outputs": [
    {
     "name": "stdout",
     "output_type": "stream",
     "text": [
      "Window : 5 ; No components : 10 ; Left only : True ; Right only : False\n",
      "-----------------------------------------------------------------------\n",
      "Time taken is ----  16.049750804901123\n",
      "boy\n",
      "['yet', 'itself', 'rather', 'passed', 'green', 'gave', 'complaint', 'accessible', 'playing', 'gets']\n",
      "sunday\n",
      "['bible', 'soul', 'miles', 'wonderful', 'built', 'fell', 'opposite', 'remaining', 'match', 'sentence']\n",
      "eat\n",
      "['challenge', 'anyway', 'conduct', 'until', 'again', 'towards', '–', 'ahead', 'close', 'rest']\n",
      "good\n",
      "['stay', 'even', 'ever', 'like', 'test', 'entirely', \"'d\", 'right', 'need', 'look']\n",
      "slowly\n",
      "['place', 'until', 'eyes', 'planned', 'deep', 'behalf', 'rest', 'extra', 'forward', 'break']\n",
      "100\n",
      "['coast', 'conference', 'minutes', '4.', '2003', 'october', 'september', 'north', 'million', '2000']\n"
     ]
    }
   ],
   "source": [
    "run(windowSize=5, noComp=10, leftOnly=True, rightOnly=False)"
   ]
  },
  {
   "cell_type": "code",
   "execution_count": 81,
   "metadata": {},
   "outputs": [
    {
     "name": "stdout",
     "output_type": "stream",
     "text": [
      "Window : 5 ; No components : 50 ; Left only : True ; Right only : False\n",
      "-----------------------------------------------------------------------\n",
      "Time taken is ----  19.888325214385986\n",
      "boy\n",
      "['length', 'usual', 'stay', 'hold', 'show', 'regard', 'came', 'eat', 'same', 'onto']\n",
      "sunday\n",
      "['2003', 'friday', '2004', 'october', '19th', '5th', '4th', 'saturday', '2001', 'january']\n",
      "eat\n",
      "['come', 'consistent', 'seem', 'usual', 'too', 'speak', 'dog', 'regard', 'really', 'same']\n",
      "good\n",
      "[\"'ll\", 'longer', 'hard', 'best', 'look', 'like', 'much', 'sense', 'fun', 'another']\n",
      "slowly\n",
      "['find', 'mode', 'sir', 'follow', 'even', 'combination', 'make', 'without', 'hand', 'rest']\n",
      "100\n",
      "['entries', 'column', '1000', 'cm', '1', 'motor', '2', '=', 'million', '10']\n"
     ]
    }
   ],
   "source": [
    "run(windowSize=5, noComp=50, leftOnly=True, rightOnly=False)"
   ]
  },
  {
   "cell_type": "code",
   "execution_count": 82,
   "metadata": {},
   "outputs": [
    {
     "name": "stdout",
     "output_type": "stream",
     "text": [
      "Window : 5 ; No components : 100 ; Left only : True ; Right only : False\n",
      "-----------------------------------------------------------------------\n",
      "Time taken is ----  21.17309880256653\n",
      "boy\n",
      "['every', 'term', 'length', 'since', 'until', 'day', 'summer', 'go', 'same', 'however']\n",
      "sunday\n",
      "['2002', '2003', '2004', 'october', 'september', '2001', 'saturday', '2005', 'january', 'jack']\n",
      "eat\n",
      "['top', 'tree', 'back', 'flash', 'does', '3.', 'really', 'down', 'fairly', 'onto']\n",
      "good\n",
      "[\"'ll\", 'great', 'best', 'even', 'look', 'like', 'much', 'strong', 'every', 'way']\n",
      "slowly\n",
      "['correct', 'mode', 'truth', 'even', 'get', 'stop', 'along', 'without', 'me', 'rest']\n",
      "100\n",
      "['pp', 'column', '1000', '1', 'cm', 'mm', '2', '=', '10', '7.']\n"
     ]
    }
   ],
   "source": [
    "run(windowSize=5, noComp=100, leftOnly=True, rightOnly=False)"
   ]
  },
  {
   "cell_type": "code",
   "execution_count": 83,
   "metadata": {},
   "outputs": [
    {
     "name": "stdout",
     "output_type": "stream",
     "text": [
      "Window : 5 ; No components : 200 ; Left only : True ; Right only : False\n",
      "-----------------------------------------------------------------------\n",
      "Time taken is ----  25.457983016967773\n",
      "boy\n",
      "['aspect', 'praise', 'until', 'day', 'boys', 'however', 'book', 'every', 'crime', 'object']\n",
      "sunday\n",
      "['july', 'april', 'friday', 'october', 'september', 'morning', 'saturday', 'june', 'january', '1st']\n",
      "eat\n",
      "['homes', 'top', '3.', 'aged', 'young', 'does', 'varied', 'loan', 'onto', 'down']\n",
      "good\n",
      "['hard', 'little', \"'ll\", 'best', 'think', 'like', 'fit', 'nice', 'lot', 'look']\n",
      "slowly\n",
      "['song', 'truth', 'correct', 'mode', 'owner', 'summit', 'chance', 'easily', 'touch', 'advance']\n",
      "100\n",
      "['entries', 'column', '1000', '1', 'cm', 'mm', '2', '=', '10', '12']\n"
     ]
    }
   ],
   "source": [
    "run(windowSize=5, noComp=200, leftOnly=True, rightOnly=False)"
   ]
  },
  {
   "cell_type": "code",
   "execution_count": 84,
   "metadata": {},
   "outputs": [
    {
     "name": "stdout",
     "output_type": "stream",
     "text": [
      "Window : 10 ; No components : 10 ; Left only : True ; Right only : False\n",
      "-----------------------------------------------------------------------\n",
      "Time taken is ----  19.988296508789062\n",
      "boy\n",
      "['messages', 'actually', 'function', 'exactly', 'mention', 'eyes', 'recording', 'dream', 'goal', 'trying']\n",
      "sunday\n",
      "['la', 'confirmed', 'followed', 'venue', 'kingdom', '3rd', 'opened', 'miles', 'perfect', 'sugar']\n",
      "eat\n",
      "['secure', 'makes', 'around', 'even', 'possibly', 'far', 'noise', 'multiple', 'movement', 'effect']\n",
      "good\n",
      "['opportunity', 'might', 'things', 'suffered', 'done', 'believe', 'everyone', 'come', 'could', 'right']\n",
      "slowly\n",
      "['putting', 'speak', 'along', 'phase', 'advance', 'victory', 'conservative', 'upon', 'paid', 'made']\n",
      "100\n",
      "['column', 'mm', '150', 'irish', 'nine', 'select', 'edition', 'beauty', 'q', 'location']\n"
     ]
    }
   ],
   "source": [
    "run(windowSize=10, noComp=10, leftOnly=True, rightOnly=False)"
   ]
  },
  {
   "cell_type": "code",
   "execution_count": 85,
   "metadata": {},
   "outputs": [
    {
     "name": "stdout",
     "output_type": "stream",
     "text": [
      "Window : 10 ; No components : 50 ; Left only : True ; Right only : False\n",
      "-----------------------------------------------------------------------\n",
      "Time taken is ----  23.705852031707764\n",
      "boy\n",
      "['mum', 'her', 'hit', 'she', 'eyes', 'mrs', 'favourite', 'daughter', 'married', 'movie']\n",
      "sunday\n",
      "['station', 'great', '1st', 'venue', 'october', 'september', 'st', 'saturday', 'after', 'town']\n",
      "eat\n",
      "['deep', 'whole', 'until', 'alone', 'once', 'negative', 'grow', 'behind', 'real', 'understand']\n",
      "good\n",
      "['everyone', 'just', 'things', 'look', 'like', 'much', 'make', 'take', 'could', 'way']\n",
      "slowly\n",
      "['weight', 'tables', 'turn', 'mass', 'river', 'character', 'hold', 'ball', 'several', 'shows']\n",
      "100\n",
      "['capacity', 'column', '1000', '1', 'cm', 'motor', 'mm', '2', '=', '10']\n"
     ]
    }
   ],
   "source": [
    "run(windowSize=10, noComp=50, leftOnly=True, rightOnly=False)"
   ]
  },
  {
   "cell_type": "code",
   "execution_count": 86,
   "metadata": {},
   "outputs": [
    {
     "name": "stdout",
     "output_type": "stream",
     "text": [
      "Window : 10 ; No components : 100 ; Left only : True ; Right only : False\n",
      "-----------------------------------------------------------------------\n",
      "Time taken is ----  25.24770212173462\n",
      "boy\n",
      "['mum', 'her', 'hit', 'she', 'eyes', 'mrs', 'favourite', 'returned', 'daughter', 'husband']\n",
      "sunday\n",
      "['2005', 'october', 'morning', 'november', 'september', 'st', 'thursday', 'june', 'after', 'january']\n",
      "eat\n",
      "['differences', 'until', 'whole', 'used', 'real', 'negative', 'grow', 'able', 'secondary', 'another']\n",
      "good\n",
      "['everyone', 'make', 'look', 'like', 'much', 'way', 'enough', 'right', 'just', 'take']\n",
      "slowly\n",
      "['through', 'resulting', 'force', 'song', 'character', 'ball', 'exposure', 'putting', 'while', 'door']\n",
      "100\n",
      "['capacity', 'x', '1000', '1', 'cm', 'tours', 'mm', '2', '=', '10']\n"
     ]
    }
   ],
   "source": [
    "run(windowSize=10, noComp=100, leftOnly=True, rightOnly=False)"
   ]
  },
  {
   "cell_type": "code",
   "execution_count": 87,
   "metadata": {},
   "outputs": [
    {
     "name": "stdout",
     "output_type": "stream",
     "text": [
      "Window : 10 ; No components : 200 ; Left only : True ; Right only : False\n",
      "-----------------------------------------------------------------------\n",
      "Time taken is ----  29.54141855239868\n",
      "boy\n",
      "['mum', 'her', 'favourite', 'she', 'returned', 'mother', 'eyes', 'daughter', 'husband', 'movie']\n",
      "sunday\n",
      "['monday', '11th', 'october', 'morning', 'november', 'september', 'few', 'saturday', 'june', 'january']\n",
      "eat\n",
      "['best', 'both', 'meals', 'whole', 'used', 'negative', 'secondary', 'grow', 'young', 'parents']\n",
      "good\n",
      "['everyone', 'little', 'get', 'known', 'look', 'like', \"'m\", 'thought', 'take', 'quite']\n",
      "slowly\n",
      "['through', 'song', 'mail', 'advance', 'resulting', 'western', 'job', 'ball', 'exposure', 'door']\n",
      "100\n",
      "['capacity', 'pp', '1000', '1', 'cm', 'tours', 'mm', '2', '=', '10']\n"
     ]
    }
   ],
   "source": [
    "run(windowSize=10, noComp=200, leftOnly=True, rightOnly=False)"
   ]
  },
  {
   "cell_type": "code",
   "execution_count": 65,
   "metadata": {},
   "outputs": [
    {
     "name": "stdout",
     "output_type": "stream",
     "text": [
      "Window : 2 ; No components : 10 ; Left only : False ; Right only : True\n",
      "-----------------------------------------------------------------------\n",
      "Time taken is ----  46.580514430999756\n",
      "boy\n",
      "['adobe', 'attend', 'final', 'green', 'location', 'forced', 'birds', 'locations', 'speaker', 'supplied']\n",
      "sunday\n",
      "['literature', '17th', 'seminar', 'saturday', 'pub', 'morning', '1st', 'director', 'dates', 'routes']\n",
      "eat\n",
      "['happen', 'something', 'heavy', 'stop', \"'ve\", \"'re\", 'am', 'sorry', 'saying', 'me']\n",
      "good\n",
      "['though', 'him', 'thanks', 'treated', 'father', 'taking', 'take', 'movement', 'nor', 'men']\n",
      "slowly\n",
      "['amounts', 'gives', 'parties', 'rather', 'lower', 'temperature', 'particular', 'exposure', 'aimed', 'considered']\n",
      "100\n",
      "['tour', 'hotel', 'hotels', 'height', '1000', '1', 'white', '90', '=', 'mm']\n"
     ]
    }
   ],
   "source": [
    "run(windowSize=2, noComp=10, leftOnly=False, rightOnly=True)"
   ]
  },
  {
   "cell_type": "code",
   "execution_count": 88,
   "metadata": {},
   "outputs": [
    {
     "name": "stdout",
     "output_type": "stream",
     "text": [
      "Window : 2 ; No components : 50 ; Left only : False ; Right only : True\n",
      "-----------------------------------------------------------------------\n",
      "Time taken is ----  49.639742374420166\n",
      "boy\n",
      "['sea', 'him', 'dear', 'green', 'dream', 'wood', 'father', 'daughter', 'mother', 'sought']\n",
      "sunday\n",
      "['bible', 'evening', 'john', '11th', '4th', 'acts', 'morning', 'saturday', 'june', '1st']\n",
      "eat\n",
      "[\"'re\", 'stay', \"'ll\", 'just', 'did', 'lot', 'know', 'looks', 'saying', 'bit']\n",
      "good\n",
      "['yet', 'true', 'around', 'even', 'again', 'life', 'saw', 'really', 'right', 'way']\n",
      "slowly\n",
      "['properly', 'impossible', 'red', 'shown', 'majority', 'suggests', 'facts', 'takes', 'brand', 'move']\n",
      "100\n",
      "['capacity', 'length', 'column', '1000', 'document', 'cm', '1', 'mm', '=', '10']\n"
     ]
    }
   ],
   "source": [
    "run(windowSize=2, noComp=50, leftOnly=False, rightOnly=True)"
   ]
  },
  {
   "cell_type": "code",
   "execution_count": 89,
   "metadata": {},
   "outputs": [
    {
     "name": "stdout",
     "output_type": "stream",
     "text": [
      "Window : 2 ; No components : 100 ; Left only : False ; Right only : True\n",
      "-----------------------------------------------------------------------\n",
      "Time taken is ----  51.35407614707947\n",
      "boy\n",
      "['him', 'dear', 'arms', 'green', 'dream', 'wood', 'sea', 'daughter', 'mother', 'sought']\n",
      "sunday\n",
      "['bible', 'evening', 'saturday', '11th', '4th', 'acts', 'morning', 'john', 'june', '1st']\n",
      "eat\n",
      "['just', 'got', \"'re\", 'think', 'bit', 'did', 'feel', 'looks', 'lot', 'thing']\n",
      "good\n",
      "['yet', 'saw', \"'ll\", 'well', 'though', 'got', 'make', 'way', 'said', 'again']\n",
      "slowly\n",
      "['properly', 'however', 'fact', 'surrounding', 'therapy', 'necessary', 'facts', 'understood', 'pressure', 'climate']\n",
      "100\n",
      "['capacity', 'length', 'score', '1000', 'document', 'cm', '1', 'mm', '=', '10']\n"
     ]
    }
   ],
   "source": [
    "run(windowSize=2, noComp=100, leftOnly=False, rightOnly=True)"
   ]
  },
  {
   "cell_type": "code",
   "execution_count": 90,
   "metadata": {},
   "outputs": [
    {
     "name": "stdout",
     "output_type": "stream",
     "text": [
      "Window : 2 ; No components : 200 ; Left only : False ; Right only : True\n",
      "-----------------------------------------------------------------------\n",
      "Time taken is ----  56.907262086868286\n",
      "boy\n",
      "['him', 'saying', 'dear', 'green', 'dream', 'wood', 'sea', 'daughter', 'mother', 'sought']\n",
      "sunday\n",
      "['bible', 'evening', '2nd', '11th', '4th', 'acts', 'morning', 'saturday', 'june', '1st']\n",
      "eat\n",
      "['bit', 'feel', \"'ll\", 'think', 'just', 'did', 'got', 'saying', 'seemed', \"'d\"]\n",
      "good\n",
      "['yet', 'saw', \"'ll\", 'well', 'though', 'got', 'dream', 'said', 'true', 'again']\n",
      "slowly\n",
      "['eligible', 'qualification', 'social', 'climate', 'take', 'facts', 'registered', 'pressure', 'worker', 'fact']\n",
      "100\n",
      "['capacity', 'volume', 'length', '1000', 'document', '1', 'mm', 'cm', '=', '10']\n"
     ]
    }
   ],
   "source": [
    "run(windowSize=2, noComp=200, leftOnly=False, rightOnly=True)"
   ]
  },
  {
   "cell_type": "code",
   "execution_count": 91,
   "metadata": {},
   "outputs": [
    {
     "name": "stdout",
     "output_type": "stream",
     "text": [
      "Window : 5 ; No components : 10 ; Left only : False ; Right only : True\n",
      "-----------------------------------------------------------------------\n",
      "Time taken is ----  45.56382417678833\n",
      "boy\n",
      "['adobe', 'attend', 'final', 'green', 'location', 'forced', 'birds', 'locations', 'speaker', 'supplied']\n",
      "sunday\n",
      "['literature', '17th', 'seminar', 'saturday', 'pub', 'morning', '1st', 'director', 'dates', 'routes']\n",
      "eat\n",
      "['happen', 'something', 'heavy', 'stop', \"'ve\", \"'re\", 'am', 'sorry', 'saying', 'me']\n",
      "good\n",
      "['though', 'him', 'thanks', 'treated', 'father', 'taking', 'take', 'movement', 'nor', 'men']\n",
      "slowly\n",
      "['amounts', 'gives', 'parties', 'rather', 'lower', 'temperature', 'particular', 'exposure', 'aimed', 'considered']\n",
      "100\n",
      "['tour', 'hotel', 'hotels', 'height', '1000', '1', 'white', '90', '=', 'mm']\n"
     ]
    }
   ],
   "source": [
    "run(windowSize=5, noComp=10, leftOnly=False, rightOnly=True)"
   ]
  },
  {
   "cell_type": "code",
   "execution_count": 92,
   "metadata": {},
   "outputs": [
    {
     "name": "stdout",
     "output_type": "stream",
     "text": [
      "Window : 5 ; No components : 50 ; Left only : False ; Right only : True\n",
      "-----------------------------------------------------------------------\n",
      "Time taken is ----  50.06431269645691\n",
      "boy\n",
      "['sea', 'him', 'dear', 'green', 'dream', 'wood', 'father', 'daughter', 'mother', 'sought']\n",
      "sunday\n",
      "['bible', 'evening', 'john', '11th', '4th', 'acts', 'morning', 'saturday', 'june', '1st']\n",
      "eat\n",
      "[\"'re\", 'stay', \"'ll\", 'just', 'did', 'lot', 'know', 'looks', 'saying', 'bit']\n",
      "good\n",
      "['yet', 'true', 'around', 'even', 'again', 'life', 'saw', 'really', 'right', 'way']\n",
      "slowly\n",
      "['properly', 'impossible', 'red', 'shown', 'majority', 'suggests', 'facts', 'takes', 'brand', 'move']\n",
      "100\n",
      "['capacity', 'length', 'column', '1000', 'document', 'cm', '1', 'mm', '=', '10']\n"
     ]
    }
   ],
   "source": [
    "run(windowSize=5, noComp=50, leftOnly=False, rightOnly=True)"
   ]
  },
  {
   "cell_type": "code",
   "execution_count": 93,
   "metadata": {},
   "outputs": [
    {
     "name": "stdout",
     "output_type": "stream",
     "text": [
      "Window : 5 ; No components : 100 ; Left only : False ; Right only : True\n",
      "-----------------------------------------------------------------------\n",
      "Time taken is ----  53.526697635650635\n",
      "boy\n",
      "['him', 'dear', 'arms', 'green', 'dream', 'wood', 'sea', 'daughter', 'mother', 'sought']\n",
      "sunday\n",
      "['bible', 'evening', 'saturday', '11th', '4th', 'acts', 'morning', 'john', 'june', '1st']\n",
      "eat\n",
      "['just', 'got', \"'re\", 'think', 'bit', 'did', 'feel', 'looks', 'lot', 'thing']\n",
      "good\n",
      "['yet', 'saw', \"'ll\", 'well', 'though', 'got', 'make', 'way', 'said', 'again']\n",
      "slowly\n",
      "['properly', 'however', 'fact', 'surrounding', 'therapy', 'necessary', 'facts', 'understood', 'pressure', 'climate']\n",
      "100\n",
      "['capacity', 'length', 'score', '1000', 'document', 'cm', '1', 'mm', '=', '10']\n"
     ]
    }
   ],
   "source": [
    "run(windowSize=5, noComp=100, leftOnly=False, rightOnly=True)"
   ]
  },
  {
   "cell_type": "code",
   "execution_count": 94,
   "metadata": {},
   "outputs": [
    {
     "name": "stdout",
     "output_type": "stream",
     "text": [
      "Window : 5 ; No components : 200 ; Left only : False ; Right only : True\n",
      "-----------------------------------------------------------------------\n",
      "Time taken is ----  55.80970644950867\n",
      "boy\n",
      "['true', 'him', 'dear', 'green', 'dream', 'wood', 'sea', 'daughter', 'mother', 'sought']\n",
      "sunday\n",
      "['bible', 'evening', '2nd', '11th', '4th', 'acts', 'morning', 'saturday', 'june', '1st']\n",
      "eat\n",
      "['bit', 'feel', \"'ll\", 'think', 'just', 'did', 'got', 'saying', 'seemed', \"'d\"]\n",
      "good\n",
      "['yet', 'saw', \"'ll\", 'well', 'though', 'got', 'dream', 'said', 'true', 'again']\n",
      "slowly\n",
      "['eligible', 'qualification', 'social', 'climate', 'take', 'facts', 'registered', 'pressure', 'worker', 'fact']\n",
      "100\n",
      "['capacity', 'volume', 'length', '1000', 'document', '1', 'mm', 'cm', '=', '10']\n"
     ]
    }
   ],
   "source": [
    "run(windowSize=5, noComp=200, leftOnly=False, rightOnly=True)"
   ]
  },
  {
   "cell_type": "code",
   "execution_count": 95,
   "metadata": {},
   "outputs": [
    {
     "name": "stdout",
     "output_type": "stream",
     "text": [
      "Window : 10 ; No components : 10 ; Left only : False ; Right only : True\n",
      "-----------------------------------------------------------------------\n",
      "Time taken is ----  45.79260516166687\n",
      "boy\n",
      "['adobe', 'attend', 'final', 'green', 'location', 'forced', 'birds', 'locations', 'speaker', 'supplied']\n",
      "sunday\n",
      "['literature', '17th', 'seminar', 'saturday', 'pub', 'morning', '1st', 'director', 'dates', 'routes']\n",
      "eat\n",
      "['happen', 'something', 'heavy', \"'ve\", 'stop', \"'re\", 'am', 'me', 'saying', 'sorry']\n",
      "good\n",
      "['though', 'him', 'thanks', 'treated', 'father', 'taking', 'take', 'movement', 'nor', 'men']\n",
      "slowly\n",
      "['amounts', 'gives', 'parties', 'rather', 'lower', 'temperature', 'particular', 'exposure', 'aimed', 'considered']\n",
      "100\n",
      "['tour', 'hotel', 'hotels', 'height', '1000', '1', 'white', '90', '=', 'mm']\n"
     ]
    }
   ],
   "source": [
    "run(windowSize=10, noComp=10, leftOnly=False, rightOnly=True)"
   ]
  },
  {
   "cell_type": "code",
   "execution_count": 96,
   "metadata": {},
   "outputs": [
    {
     "name": "stdout",
     "output_type": "stream",
     "text": [
      "Window : 10 ; No components : 50 ; Left only : False ; Right only : True\n",
      "-----------------------------------------------------------------------\n",
      "Time taken is ----  54.28583335876465\n",
      "boy\n",
      "['sea', 'him', 'dear', 'green', 'dream', 'wood', 'father', 'daughter', 'mother', 'sought']\n",
      "sunday\n",
      "['bible', 'evening', 'john', '11th', '4th', 'acts', 'morning', 'saturday', 'june', '1st']\n",
      "eat\n",
      "[\"'re\", 'lot', \"'ll\", 'stay', 'looks', 'did', 'just', 'know', 'saying', 'bit']\n",
      "good\n",
      "['yet', 'true', 'around', 'even', 'again', 'life', 'saw', 'really', 'right', 'way']\n",
      "slowly\n",
      "['properly', 'impossible', 'red', 'shown', 'majority', 'suggests', 'facts', 'takes', 'brand', 'move']\n",
      "100\n",
      "['capacity', 'length', 'column', '1000', 'document', 'cm', '1', 'mm', '=', '10']\n"
     ]
    }
   ],
   "source": [
    "run(windowSize=10, noComp=50, leftOnly=False, rightOnly=True)"
   ]
  },
  {
   "cell_type": "code",
   "execution_count": 97,
   "metadata": {},
   "outputs": [
    {
     "name": "stdout",
     "output_type": "stream",
     "text": [
      "Window : 10 ; No components : 100 ; Left only : False ; Right only : True\n",
      "-----------------------------------------------------------------------\n",
      "Time taken is ----  51.38403511047363\n",
      "boy\n",
      "['him', 'dear', 'arms', 'green', 'dream', 'wood', 'sea', 'daughter', 'mother', 'sought']\n",
      "sunday\n",
      "['bible', 'evening', 'saturday', '11th', '4th', 'acts', 'morning', 'john', 'june', '1st']\n",
      "eat\n",
      "['just', 'got', \"'re\", 'think', 'bit', 'did', 'feel', 'looks', 'lot', 'thing']\n",
      "good\n",
      "['yet', 'saw', \"'ll\", 'well', 'though', 'got', 'make', 'way', 'said', 'again']\n",
      "slowly\n",
      "['properly', 'however', 'fact', 'surrounding', 'therapy', 'necessary', 'facts', 'understood', 'pressure', 'climate']\n",
      "100\n",
      "['capacity', 'length', 'score', '1000', 'document', 'cm', '1', 'mm', '=', '10']\n"
     ]
    }
   ],
   "source": [
    "run(windowSize=10, noComp=100, leftOnly=False, rightOnly=True)"
   ]
  },
  {
   "cell_type": "code",
   "execution_count": 98,
   "metadata": {},
   "outputs": [
    {
     "name": "stdout",
     "output_type": "stream",
     "text": [
      "Window : 10 ; No components : 200 ; Left only : False ; Right only : True\n",
      "-----------------------------------------------------------------------\n",
      "Time taken is ----  56.408291816711426\n",
      "boy\n",
      "['true', 'him', 'dear', 'green', 'dream', 'wood', 'sea', 'daughter', 'mother', 'sought']\n",
      "sunday\n",
      "['bible', 'evening', '2nd', '11th', '4th', 'acts', 'morning', 'saturday', 'june', '1st']\n",
      "eat\n",
      "['bit', 'feel', \"'ll\", 'think', 'just', 'did', 'got', 'saying', 'seemed', \"'d\"]\n",
      "good\n",
      "['yet', 'saw', \"'ll\", 'well', 'though', 'got', 'dream', 'said', 'true', 'again']\n",
      "slowly\n",
      "['eligible', 'qualification', 'social', 'climate', 'take', 'facts', 'registered', 'pressure', 'worker', 'fact']\n",
      "100\n",
      "['capacity', 'volume', 'length', '1000', 'document', '1', 'mm', 'cm', '=', '10']\n"
     ]
    }
   ],
   "source": [
    "run(windowSize=10, noComp=200, leftOnly=False, rightOnly=True)"
   ]
  },
  {
   "cell_type": "markdown",
   "metadata": {},
   "source": [
    "<h1> KMeans Clustering </h1>"
   ]
  },
  {
   "cell_type": "code",
   "execution_count": 108,
   "metadata": {},
   "outputs": [
    {
     "name": "stdout",
     "output_type": "stream",
     "text": [
      "[('graduate', 0), ('constant', 0), ('ball', 0), ('principal', 0), ('update', 0), ('contains', 0), ('error', 0), ('posts', 0), ('national', 0), ('records', 0), ('perhaps', 0), ('included', 0), ('claimed', 0), ('intended', 0), ('credit', 0), ('flexible', 0), ('finally', 0), ('budget', 0), ('missing', 0), ('follow', 0), ('manager', 0), ('external', 0), ('medieval', 0), ('administration', 0), ('pensions', 0), ('engineers', 0), ('end', 0), ('station', 0), ('80', 0), ('copyright', 0), ('act', 0), ('nearly', 0), ('form', 0), ('5.', 0), ('sell', 0), ('30', 0), ('sir', 0), ('easily', 0), ('vote', 0), ('q', 0), ('reducing', 0), ('below', 0), ('exercise', 0), ('rail', 0), ('quality', 0), ('consider', 0), ('0', 0), ('exhibition', 0), ('signs', 0), ('pair', 0), ('sponsorship', 0), ('strategies', 0), ('huge', 0), ('research', 0), ('sky', 0), ('employers', 0), ('map', 0), ('ii', 0), ('energy', 0), ('leading', 0), ('properly', 0), ('turns', 0), ('looks', 0), ('cases', 0), ('train', 0), ('items', 0), ('running', 0), ('exciting', 0), ('century', 0), ('organisation', 0), ('errors', 0), ('qualified', 0), ('miss', 0), ('fashion', 0), ('activities', 0), ('ordered', 0), ('behalf', 0), ('dvd', 0), ('approach', 0), ('8.', 0), ('roles', 0), ('incident', 0), ('wider', 0), ('museum', 0), ('wild', 0), ('maintain', 0), ('base', 0), ('trials', 0), ('developing', 0), ('big', 0), ('experts', 0), ('independent', 0), ('views', 0), ('odds', 0), ('club', 0), ('overseas', 0), ('corporation', 0), ('20th', 0), ('costs', 0), ('involvement', 0), ('pattern', 0), ('answers', 0), ('percentage', 0), ('motor', 0), ('types', 0), ('t', 0), ('places', 0), ('letter', 0), ('usual', 0), ('encouraging', 0), ('title', 0), ('network', 0), ('speed', 0), ('happened', 0), ('upon', 0), ('invited', 0), ('testing', 0), ('conference', 0), ('operating', 0), ('rural', 0), ('wonderful', 0), ('teacher', 0), ('protect', 0), ('levels', 0), ('major', 0), ('authorities', 0), ('pain', 0), ('box', 0), ('cinema', 0), ('recent', 0), ('former', 0), ('remaining', 0), ('knew', 0), ('apart', 0), ('described', 0), ('houses', 0), ('saying', 0), ('modern', 0), ('helpful', 0), ('1986', 0), ('objectives', 0), ('campaign', 0), ('talks', 0), ('stages', 0), ('although', 0), ('let', 0), ('strike', 0), ('youth', 0), ('development', 0), ('protected', 0), ('lots', 0), ('marriage', 0), ('stress', 0), ('resource', 0), ('leaders', 0), ('attention', 0), ('smith', 0), ('email', 0), ('appeal', 0), ('supporting', 0), ('release', 0), ('accommodation', 0), ('turned', 0), ('diabetes', 0), ('island', 0), ('system', 0), ('every', 0), ('send', 0), ('wildlife', 0), ('thomas', 0), ('legislation', 0), ('characteristics', 0), ('logic', 0), ('communities', 0), ('prior', 0), ('destination', 0), ('ways', 0), ('o', 0), ('returned', 0), ('contribute', 0), ('relevant', 0), ('reported', 0), ('techniques', 0), ('cars', 0), ('roman', 0), ('paying', 0), ('instead', 0), ('discuss', 0), ('volunteers', 0), ('g', 0), ('met', 0), ('perfect', 0), ('shares', 0), ('future', 0), ('bishop', 0), ('clinical', 0), ('controls', 0), ('four', 0), ('processes', 0), ('routes', 0), ('schools', 0), ('thing', 0), ('vision', 0), ('increasing', 11), ('early', 15), ('sleep', 16), ('9', 17), ('management', 23), ('break', 23), ('opposite', 26), ('hopefully', 29), ('reality', 29), ('diagnosis', 29), ('limit', 29), ('manufacturer', 31), ('supported', 31), ('sale', 31), ('facts', 31), ('100', 31), ('module', 31), ('attendance', 31), ('arrival', 31), ('existence', 31), ('40', 31), ('group', 31), ('reference', 31), ('happen', 31), ('dear', 31), ('transfer', 31), ('customer', 31), ('monday', 31), ('billion', 31), ('section', 31), ('heritage', 31), ('devon', 31), ('clients', 35), ('specified', 41), ('regular', 41), ('rates', 46), ('recognise', 46), ('starting', 46), ('east', 46), ('representation', 46), ('media', 46), ('professionals', 46), ('values', 46), ('europe', 46), ('yet', 46), ('worth', 46), ('consent', 46), ('intensive', 46), ('increased', 46), ('mar', 46), ('colleagues', 46), ('sets', 46), ('b', 46), ('fairly', 46), ('took', 46), ('must', 46), ('plastic', 46), ('regard', 46), ('managers', 46), ('approval', 46), ('mind', 46), ('engine', 46), ('dedicated', 46), ('majority', 46), ('me', 46), ('various', 46), ('data', 46), ('list', 46), ('quick', 46), ('primary', 46), ('particular', 46), ('rent', 46), ('exactly', 46), ('cd', 46), ('mathematics', 46), ('highest', 46), ('flights', 46), ('academy', 46), ('central', 46), ('aimed', 46), ('aid', 46), ('everyone', 46), ('posted', 46), ('usually', 46), ('function', 46), ('workers', 46), ('electronic', 46), ('path', 46), ('1.0km', 46), ('makes', 46), ('significant', 46), ('next', 46), ('association', 46), ('good', 46), ('son', 46), ('car', 46), ('example', 46), ('decided', 46), ('fall', 46), ('--', 46), ('turning', 46), ('members', 46), ('ensure', 46), ('2004', 46), ('novel', 46), ('campus', 46), ('actual', 46), ('download', 46), ('fuel', 46), ('gallery', 46), ('privacy', 46), ('carried', 46), ('discipline', 46), ('e.g.', 46), ('inclusion', 46), ('aspect', 46), ('ms', 46), ('ltd', 46), ('accurate', 46), ('someone', 46), ('arts', 46), ('living', 46), ('thursday', 46), ('consideration', 46), ('assessment', 46), ('computers', 46), ('works', 46), ('headed', 46), ('williams', 46), ('saving', 46), ('helped', 46), ('attend', 46), ('covered', 46), ('ice', 46), ('joint', 46), ('economy', 46), ('double', 46), ('clubs', 46), ('whose', 46), ('wife', 46), ('visit', 46), ('includes', 46), ('daughter', 46), ('quickly', 46), ('item', 46), ('internet', 46), ('potentially', 46), ('per', 46), ('fields', 46), ('see', 46), ('water', 46), ('plays', 46), ('suggested', 46), ('age', 46), ('films', 46), ('seems', 46), ('north', 46), ('trained', 46), ('audit', 46), ('reviews', 46), ('software', 46), ('wrote', 46), ('mail', 46), ('limitations', 46), ('anything', 46), ('search', 46), ('unions', 46), ('breakfast', 46), ('hard', 46), ('plus', 46), ('newsletter', 46), ('bristol', 46), ('stand', 46), ('leadership', 46), ('college', 46), ('channel', 46), ('york', 46), ('health', 46), ('last', 46), ('unfortunately', 46), ('2002', 46), ('talk', 46), ('sent', 46), ('illness', 46), ('physical', 46), ('receive', 46), ('pick', 46), ('founded', 46), ('point', 46), ('tradition', 46), ('unless', 46), ('debate', 46), ('program', 46), ('particularly', 46), ('advance', 46), ('ideal', 46), ('circuit', 46), ('copy', 46), ('employees', 46), ('spend', 46), ('israel', 46), ('month', 46), ('castle', 46), ('yellow', 46), ('author', 46), ('certain', 46), ('gifts', 46), ('practices', 46), ('documents', 46), ('university', 46), ('britain', 46), ('..', 46), ('m', 46), ('china', 46), ('theory', 46), ('sick', 46), ('eight', 46), ('copies', 46), ('sustainable', 46), ('heading', 46), ('following', 46), ('books', 46), ('actually', 46), ('responses', 46), ('ones', 46), ('towns', 46), ('andrew', 46), ('purposes', 46), ('manufacturers', 46), ('forms', 46), ('animal', 46), ('president', 46), ('professional', 46), ('close', 46), ('according', 46), ('lists', 46), ('based', 46), ('dark', 46), ('unique', 46), ('july', 46), ('suit', 46), ('result', 46), ('seen', 46), ('enjoy', 46), ('ad', 46), ('presentation', 46), ('disability', 46), ('mass', 46), ('achievement', 46), ('device', 46), ('responsibility', 46), ('p.', 46), ('log', 46), ('course', 46), ('foot', 46), ('leisure', 46), ('jack', 46), ('hope', 46), ('chief', 46), ('star', 46), ('assist', 46), ('sample', 46), ('lady', 46), ('commercial', 46), ('gets', 46), ('notes', 46), ('programme', 46), ('1000', 46), ('recommended', 46), ('project', 46), ('relief', 46), ('participation', 46), ('office', 46), ('girls', 46), ('creation', 46), ('shop', 46), ('environment', 46), ('welcome', 46), ('sound', 46), ('file', 46), ('ensuring', 46), ('client', 46), ('mike', 46), ('racing', 46), ('eat', 46), ('entire', 46), ('situated', 46), ('game', 46), ('e', 46), ('under', 46), ('around', 46), ('average', 46), ('l', 46), ('ride', 46), ('freedom', 46), ('england', 46), ('authors', 46), ('friday', 46), ('interface', 46), ('...', 46), ('closed', 46), ('walls', 46), ('support', 46), ('methods', 46), ('17', 46), ('save', 46), ('creating', 46), ('potential', 46), ('existing', 46), ('publications', 46), ('capital', 46), ('therapy', 46), ('teach', 46), ('george', 46), ('housing', 46), ('importance', 46), ('present', 46), ('managed', 46), ('generation', 46), ('her', 46), ('lines', 46), ('did', 46), ('respect', 46), ('cambridge', 46), ('theatre', 46), ('received', 46), ('leader', 46), ('opinion', 46), ('mental', 46), ('power', 46), ('brother', 46), ('sea', 46), ('disease', 46), ('entries', 46), ('himself', 46), ('cards', 46), ('international', 46), ('integrated', 46), ('providers', 46), ('2000', 46), ('recovery', 46), ('displayed', 46), ('promoting', 46), ('sold', 46), ('immediate', 46), ('frame', 46), ('german', 46), ('homes', 46), ('taken', 46), ('objective', 46), ('trustees', 46), ('500', 46), ('sugar', 46), ('represented', 46), ('mm', 46), ('sure', 46), ('targets', 46), ('nursing', 46), ('claim', 46), ('continued', 46), ('persons', 46), ('suffered', 46), ('5th', 46), ('problems', 46), ('completion', 46), ('usa', 46), ('change', 46), ('environmental', 46), ('removed', 46), ('learn', 46), ('aged', 46), ('heard', 46), ('trust', 46), ('safety', 46), ('extension', 46), ('cell', 46), ('victory', 46), ('treatment', 46), ('covers', 46), ('worker', 46), ('town', 46), ('night', 46), ('amount', 46), ('stock', 46), ('replace', 46), ('tv', 46), ('religious', 46), ('fish', 46), ('call', 46), ('fee', 46), ('few', 46), ('offers', 46), ('front', 46), ('opens', 46), ('mrs', 46), ('nuclear', 46), ('4.', 46), ('construction', 46), ('crisis', 46), ('listen', 46), ('handle', 46), ('director', 46), ('indicate', 46), ('savings', 46), ('industrial', 46), ('riding', 46), ('returns', 46), ('care', 46), ('increase', 46), ('royal', 46), ('income', 46), ('2.', 46), ('supply', 46), ('shopping', 46), ('liability', 46), ('topic', 46), ('building', 46), ('caught', 46), ('edinburgh', 46), ('different', 46), ('journal', 46), ('superb', 46), ('articles', 46), ('overall', 46), ('steve', 46), ('value', 46), ('drinking', 46), ('obtained', 46), ('draft', 46), ('panel', 46), ('11th', 46), ('having', 46), ('family', 46), ('w', 46), ('experiences', 46), ('district', 46), ('man', 46), ('agree', 46), ('bought', 46), ('traffic', 46), ('october', 46), ('guarantee', 46), ('percent', 46), ('morning', 46), ('add', 46), ('33', 46), ('easier', 46), ('head', 46), ('understanding', 46), ('boat', 46), ('emissions', 46), ('patterns', 46), ('photo', 46), ('pounds', 46), ('1st', 46), ('[', 46), ('countries', 46), ('wind', 46), ('integration', 46), ('diving', 46), ('employed', 46), ('birds', 46), ('interested', 46), ('procedure', 46), ('visited', 46), ('nov', 46), ('element', 46), ('register', 46), ('grants', 46), ('scientific', 46), ('body', 46), ('happens', 46), ('channels', 46), ('ltd.', 46), ('challenge', 46), ('applications', 46), ('writing', 46), ('training', 46), ('tiny', 46), ('sequence', 46), ('picture', 46), ('explained', 46), ('hours', 46), ('concepts', 46), ('towards', 46), ('really', 46), ('defined', 46), ('drivers', 46), ('improvement', 46), ('latest', 46), ('affairs', 46), ('falls', 46), ('trial', 46), ('role', 46), ('equally', 46), ('produce', 46), ('cutting', 46), ('drawn', 46), ('solutions', 46), ('laboratory', 46), ('desire', 46), ('side', 46), ('pictures', 46), ('tea', 46), ('sunday', 46), ('seriously', 46), ('premises', 46), ('maintenance', 46), ('today', 46), ('frank', 46), ('whatever', 46), ('k', 46), ('home', 46), ('stop', 46), ('richard', 46), ('object', 46), ('7.', 46), ('least', 46), ('archive', 46), ('direction', 46), ('false', 46), ('formation', 46), ('submit', 46), ('paul', 46), ('lane', 46), ('comprehensive', 46), ('fun', 46), ('submitted', 46), ('little', 46), ('subsequent', 46), ('universe', 46), ('stations', 46), ('space', 46), ('careful', 46), ('continues', 46), ('scotland', 46), ('widely', 46), ('teams', 46), ('facilities', 46), ('50', 46), ('bill', 46), ('friend', 46), ('feed', 46), ('making', 46), ('31', 46), ('requires', 46), ('residents', 46), ('authority', 46), ('approved', 46), ('machines', 46), ('american', 46), ('sites', 46), ('walk', 46), ('sat', 46), ('24', 46), ('wales', 46), ('separate', 46), ('way', 46), ('unlikely', 46), ('cold', 46), ('helping', 46), ('fundamental', 46), ('entitled', 46), ('cost', 46), ('opportunities', 46), ('memory', 46), ('mission', 46), ('launched', 46), ('neither', 46), ('holiday', 46), ('sarah', 46), ('coverage', 46), ('hear', 46), ('film', 46), ('shown', 46), ('21', 46), ('officers', 46), ('continuing', 46), ('dialogue', 46), ('foundation', 46), ('tickets', 46), ('down', 46), ('seemed', 46), ('pass', 46), ('ourselves', 46), ('clearly', 46), ('impact', 46), ('own', 46), ('discussions', 46), ('directive', 46), ('correct', 46), ('j.', 46), ('stephen', 46), ('song', 46), ('jews', 46), ('wine', 46), ('mine', 46), ('020', 46), ('white', 46), ('directors', 46), ('landscape', 46), ('jane', 46), ('$', 46), ('australia', 46), ('1994', 46), ('go', 46), ('season', 46), ('challenges', 46), ('structure', 46), ('accessibility', 46), ('presented', 46), ('county', 46), ('warm', 46), ('sister', 46), ('each', 46), ('obviously', 46), ('emergency', 46), ('shows', 46), ('busy', 46), ('affect', 46), ('human', 46), ('deal', 46), ('v', 46), ('strategic', 46), ('say', 46), ('mp', 46), ('google', 46), ('cause', 46), ('survey', 46), ('rest', 46), ('feature', 46), ('appropriate', 46), ('transport', 46), ('sophisticated', 46), ('selection', 46), ('high', 46), ('dr.', 46), ('play', 46), ('pure', 46), ('diet', 46), ('criminal', 46), ('procedures', 46), ('familiar', 46), ('issues', 46), ('schedule', 46), ('projects', 46), ('relating', 46), ('army', 46), ('products', 46), ('secretary', 46), ('firms', 46), ('refuse', 46), ('because', 46), ('thanks', 46), ('dealing', 46), ('threat', 46), ('innovation', 46), ('christian', 46), ('provided', 46), ('telephone', 46), ('publisher', 46), ('blair', 46), ('enjoyed', 46), ('shared', 46), ('supplied', 46), ('watching', 46), ('wo', 46), ('open', 46), ('loan', 46), ('nevertheless', 46), ('started', 46), ('titles', 46), ('hold', 46), ('comments', 46), ('special', 46), ('generate', 46), ('ran', 46), ('market', 46), ('either', 46), ('tree', 46), ('drugs', 46), ('lack', 46), ('tax', 46), ('limited', 46), ('gift', 46), ('i.e.', 46), ('come', 46), ('languages', 46), ('six', 46), ('raise', 46), ('accept', 46), ('greatest', 46), ('welfare', 46), ('considering', 46), ('programs', 46), ('am', 46), ('develop', 46), ('setting', 46), ('load', 46), ('agriculture', 46), ('signed', 46), ('improving', 46), ('case', 46), ('compared', 46), ('democracy', 46), ('discussion', 46), ('allowing', 46), ('takes', 46), ('schemes', 46), ('size', 46), ('anyway', 46), ('lies', 46), ('models', 46), ('region', 46), ('suggests', 46), ('combined', 46), ('2005', 46), ('fire', 46), ('visual', 46), ('orders', 46), ('principle', 46), ('enable', 46), ('manner', 46), ('principles', 46), ('enabled', 46), ('referred', 46), ('lectures', 46), ('s.', 46), ('art', 46), ('feet', 46), ('matters', 46), ('funded', 46), ('2006', 46), ('online', 46), ('nhs', 46), ('action', 46), ('political', 46), (\"'ll\", 46), ('safe', 46), ('board', 46), ('amounts', 46), ('weapons', 46), ('alternative', 46), ('elsewhere', 46), ('david', 46), ('literature', 46), ('contract', 46), ('three', 46), ('british', 46), ('calendar', 46), ('moment', 46), ('driven', 46), ('take', 46), ('reserve', 46), ('contain', 46), ('forget', 46), ('continue', 46), ('public', 46), ('academic', 46), ('content', 46), ('planning', 46), ('going', 46), ('turn', 46), ('buildings', 46), ('factor', 46), ('arrangements', 46), ('user', 46), ('said', 46), ('secondary', 46), ('de', 46), ('nor', 46), ('n', 46), ('flash', 46), ('meaning', 46), ('shape', 46), ('tool', 46), ('education', 46), ('beach', 46), ('mode', 46), ('presence', 46), ('field', 46), ('taught', 46), ('alone', 46), ('sign', 46), ('ca', 46), ('days', 46), ('edge', 46), ('annual', 46), ('economics', 46), ('websites', 46), ('bar', 46), ('2001', 46), ('ongoing', 46), ('technologies', 46), ('stone', 46), ('walked', 46), ('11', 46), ('&', 46), ('proportion', 46), ('criteria', 46), ('john', 46), ('almost', 46), ('itself', 46), ('due', 46), ('machine', 46), ('profit', 46), ('curriculum', 46), ('notice', 46), ('e-mail', 46), ('vehicle', 46), ('enterprise', 46), ('tony', 46), ('centres', 46), ('standards', 46), ('centre', 46), ('h', 46), ('universities', 46), ('4', 46), ('husband', 46), ('objects', 46), ('string', 46), ('wait', 46), ('accepted', 46), ('january', 46), ('roads', 46), ('older', 46), ('cannot', 46), ('grant', 46), ('gold', 46), ('simply', 46), ('cultural', 46), ('government', 46), ('grade', 46), ('king', 46), ('derived', 46), ('mark', 46), ('ever', 46), ('flowers', 46), ('soil', 46), ('coming', 46), ('plan', 46), ('allows', 46), ('court', 46), ('financial', 46), ('ago', 46), ('pack', 46), ('0.6mi', 46), ('advised', 46), ('possible', 46), ('effect', 46), ('serve', 46), ('judge', 46), ('linux', 46), ('resulting', 46), ('later', 46), ('english', 46), ('eventually', 46), ('passage', 46), ('announced', 46), ('hand', 46), ('turkish', 46), ('designed', 46), ('edit', 46), ('target', 46), ('designer', 46), ('cast', 46), ('past', 46), ('interests', 46), ('decision', 46), ('read', 46), ('expensive', 46), ('henry', 46), ('ethical', 46), ('draw', 46), ('wool', 46), ('peace', 46), ('quote', 46), ('affected', 46), ('listed', 46), ('gave', 46), ('entry', 46), ('starts', 46), ('got', 46), ('cover', 46), ('real', 46), ('minutes', 46), ('shall', 46), ('post', 46), ('ends', 46), ('tim', 46), ('problem', 46), ('pp', 46), ('child', 46), ('re', 46), ('visiting', 46), ('spring', 46), ('cent', 46), ('oxford', 46), ('fair', 46), ('apparently', 46), ('category', 46), ('pretty', 46), ('loans', 46), ('michael', 46), ('low', 46), ('known', 46), ('grand', 46), ('remain', 46), ('mill', 46), ('week', 46), ('remove', 46), ('finished', 46), (\"'m\", 46), ('soul', 46), ('soon', 46), ('rock', 46), ('businesses', 46), ('format', 46), ('topics', 46), ('collect', 46), ('minute', 46), ('functions', 46), ('excellent', 46), ('customers', 46), ('route', 46), ('zone', 46), ('offices', 46), ('hire', 46), ('offer', 46), ('competition', 46), ('uses', 46), ('constitution', 46), ('teaching', 46), ('medium', 46), ('evaluation', 46), ('christmas', 46), ('without', 46), ('rapidly', 46), ('gender', 46), ('catalogue', 46), ('events', 46), ('master', 46), ('activity', 46), ('wealth', 46), ('opened', 46), ('b.', 46), ('features', 46), ('term', 46), ('speak', 46), ('technical', 46), ('jan', 46), ('brain', 46), ('allowed', 46), ('stones', 46), ('top', 46), ('prepare', 46), ('followed', 46), ('publication', 46), ('fans', 46), ('g.', 46), ('led', 46), ('factors', 46), ('doors', 46), ('showed', 46), ('light', 46), ('french', 46), ('server', 46), ('partners', 46), ('acting', 46), ('whole', 46), ('publishing', 46), ('ahead', 46), ('true', 46), ('liverpool', 46), ('interviews', 46), ('games', 46), ('william', 46), ('source', 46), ('goal', 46), ('appointment', 46), ('p', 46), ('maybe', 46), ('dancing', 46), ('does', 46), ('move', 46), ('organisations', 46), ('stars', 46), ('payments', 46), ('leeds', 46), ('exchange', 46), ('mostly', 46), ('period', 46), ('city', 46), ('visitors', 46), ('29', 46), ('off', 46), ('until', 46), ('condition', 46), ('technology', 46), ('became', 46), ('zealand', 46), ('lake', 46), ('member', 46), ('review', 46), ('measure', 46), ('while', 46), ('essential', 46), ('discovered', 46), ('agreed', 46), ('tom', 46), ('studying', 46), ('courts', 46), ('meals', 46), ('automatic', 46), ('friends', 46), ('conservation', 46), ('fine', 46), ('risk', 46), ('jobs', 46), ('prefer', 46), ('consequences', 46), ('programmes', 46), ('distribution', 46), ('capability', 46), ('dying', 46), ('area', 46), ('rooms', 46), ('fitness', 46), ('extend', 46), ('payment', 46), ('valuable', 46), ('fast', 46), ('sustainability', 46), ('fishing', 46), ('variable', 46), ('links', 46), ('glasgow', 46), ('forest', 46), ('mix', 46), ('buying', 46), ('necessary', 46), ('lose', 46), ('host', 46), ('arising', 46), ('positive', 46), ('seats', 46), ('months', 46), ('position', 46), ('changing', 46), ('society', 46), ('sep', 46), ('r', 46), ('seeking', 46), ('d.', 46), ('experienced', 46), ('travel', 46), ('enhanced', 46), ('daniel', 46), ('contribution', 46), ('steps', 46), ('worldwide', 46), ('sight', 46), ('blood', 46), ('doctors', 46), ('days.', 46), ('speaking', 46), ('defence', 46), ('despite', 46), ('owner', 46), ('famous', 46), ('photographs', 46), ('seat', 46), ('working', 46), ('players', 46), ('drama', 46), ('truly', 46), ('showing', 46), ('focused', 46), ('5', 46), ('images', 46), ('bringing', 46), ('previous', 46), ('politics', 46), ('rating', 46), ('drink', 46), ('provider', 46), ('decisions', 46), ('entirely', 46), ('everything', 46), ('relates', 46), ('solicitor', 46), ('pleasure', 46), ('original', 46), ('bath', 46), ('press', 46), ('on-line', 46), ('fight', 46), ('margaret', 46), ('medicine', 46), ('obvious', 46), ('mr', 46), ('look', 46), ('carefully', 46), ('tours', 46), ('ground', 46), ('against', 46), ('categories', 46), ('1995', 46), ('anyone', 46), ('willing', 46), ('include', 46), ('revealed', 46), ('arms', 46), ('urban', 46), ('governments', 46), ('borough', 46), ('st', 46), ('audio', 46), ('van', 46), ('requested', 46), ('count', 46), ('stage', 46), ('computing', 46), ('important', 46), ('extremely', 46), ('prison', 46), ('build', 46), ('whom', 46), ('command', 46), ('difference', 46), ('suitable', 46), ('asked', 46), ('like', 46), ('failure', 46), ('senior', 46), ('themselves', 46), ('sections', 46), ('serious', 46), ('between', 46), ('hotels', 46), ('core', 46), ('qualifications', 46), ('expected', 46), ('community', 46), ('e.', 46), ('enough', 46), ('ships', 46), ('agencies', 46), ('provides', 46), ('damage', 46), ('perspective', 46), ('menu', 46), ('associated', 46), ('murder', 46), ('workshop', 46), ('taking', 46), ('knows', 46), ('fixed', 46), ('offence', 46), ('pension', 46), ('otherwise', 46), ('employer', 46), ('understood', 46), ('fax', 46), ('harbour', 46), ('digits', 46), ('wall', 46), ('eu', 46), ('west', 46), ('interesting', 46), ('concerned', 46), ('caused', 46), ('website', 46), ('theme', 46), ('material', 46), ('gives', 46), ('helps', 46), ('partnership', 46), ('plans', 46), ('initial', 46), ('science', 46), ('surely', 46), ('allow', 46), ('recognised', 46), ('scope', 46), ('department', 46), ('began', 46), ('1991', 46), ('died', 46), ('managing', 46), ('thousands', 46), ('rise', 46), ('installed', 46), ('security', 46), ('species', 46), ('recording', 46), ('remained', 46), ('figures', 46), ('handling', 46), ('created', 46), ('charity', 46), ('detail', 46), ('whether', 46), ('oh', 46), ('developments', 46), ('book', 46), ('agent', 46), ('sessions', 46), ('horses', 46), ('roger', 46), ('music', 46), ('fat', 46), ('establish', 46), ('general', 46), ('controlled', 46), ('23', 46), ('airport', 46), ('qualification', 46), ('private', 46), ('via', 46), ('bedroom', 46), ('hearing', 46), ('similar', 46), ('connection', 46), ('capable', 46), ('yourself', 46), ('casino', 46), ('brings', 46), ('hour', 46), ('blue', 46), ('d', 46), ('fell', 46), ('remains', 46), ('model', 46), ('eating', 46), ('treat', 46), ('32', 46), ('half', 46), ('secure', 46), ('stood', 46), ('negative', 46), ('iraq', 46), ('etc', 46), ('november', 46), ('holy', 46), ('effort', 46), ('launch', 46), ('small', 46), ('boys', 46), ('price', 46), ('developed', 46), ('useful', 46), ('determined', 46), ('nutrition', 46), ('rules', 46), ('behaviour', 46), ('something', 46), ('`', 46), ('enter', 46), ('large', 46), ('nine', 46), ('purchase', 46), ('playing', 46), ('promotion', 46), ('netherlands', 46), ('vast', 46), ('changes', 46), ('regarding', 46), ('practice', 46), ('easy', 46), ('reduce', 46), ('kids', 46), ('entrance', 46), ('radio', 46), ('canal', 46), ('product', 46), ('4th', 46), ('emphasis', 46), ('regional', 46), ('life', 46), ('cm', 46), ('company', 46), ('lay', 46), ('bad', 46), ('create', 46), ('dogs', 46), ('television', 46), ('licence', 46), ('cross', 46), ('1992', 46), ('military', 46), ('parish', 46), ('doing', 46), ('reduced', 46), ('fourth', 46), ('clean', 46), ('tips', 46), ('reform', 46), ('daily', 46), ('hills', 46), ('placed', 46), ('situation', 46), ('diversity', 46), ('questions', 46), ('wide', 46), ('road', 46), ('officials', 46), ('andy', 46), ('brian', 46), ('war', 46), ('guides', 46), ('sides', 46), ('institutions', 46), ('maintained', 46), ('afternoon', 46), ('bottom', 46), ('begin', 46), ('companies', 46), ('named', 46), ('funds', 46), ('sounds', 46), ('april', 46), ('number', 46), ('struggle', 46), ('scott', 46), ('needs', 46), ('pay', 46), ('global', 46), ('tried', 46), ('upper', 46), ('statutory', 46), ('ship', 46), ('total', 46), ('shops', 46), ('input', 46), ('arranged', 46), ('involves', 46), ('searching', 46), ('perception', 46), ('column', 46), ('pleased', 46), ('awards', 46), ('comes', 46), ('undertake', 46), ('expansion', 46), ('spanish', 46), ('center', 46), ('failed', 46), ('walking', 46), ('brought', 46), ('obtain', 46), ('concept', 46), ('including', 46), ('accordance', 46), ('agricultural', 46), ('face', 46), ('evolution', 46), ('bob', 46), ('scale', 46), ('race', 46), ('length', 46), ('sporting', 46), ('express', 46), ('ask', 46), ('worry', 46), ('branch', 46), ('keeping', 46), ('intention', 46), ('winners', 46), ('engaged', 46), ('1.', 46), ('moral', 46), ('aspects', 46), ('crime', 46), ('operation', 46), ('interview', 46), ('owned', 46), ('examples', 46), ('improved', 46), ('debt', 46), ('better', 46), ('test', 46), ('equal', 46), ('producing', 46), ('die', 46), ('venue', 46), ('informed', 46), ('common', 46), ('permitted', 46), ('chris', 46), ('array', 46), ('distributed', 46), ('sector', 46), ('republic', 46), ('selected', 46), ('things', 46), ('jones', 46), ('skills', 46), ('achieved', 46), ('delivered', 46), ('design', 46), ('lewis', 46), ('suggestions', 46), ('areas', 46), ('mobile', 46), ('level', 46), ('details', 46), ('released', 46), ('calls', 46), ('seven', 46), ('careers', 46), ('coach', 46), ('cities', 46), ('isbn', 46), ('love', 46), ('key', 46), ('class', 46), ('version', 46), ('package', 46), ('sometimes', 46), ('trees', 46), ('component', 46), ('among', 46), ('river', 46), ('both', 46), ('language', 46), ('services', 46), ('father', 46), ('finance', 46), ('staff', 46), ('–', 46), ('contained', 46), ('12', 46), ('evaluate', 46), ('firm', 46), ('relationships', 46), ('cancer', 46), ('gardens', 46), ('policies', 46), ('drug', 46), ('golf', 46), ('requirements', 46), ('production', 46), ('those', 46), ('part', 46), ('th', 46), ('certificate', 46), ('units', 46), ('providing', 46), ('hidden', 46), ('others', 46), ('built', 46), ('image', 46), ('heat', 46), ('black', 46), ('european', 46), ('appear', 46), ('influence', 46), ('best', 46), ('popular', 46), ('45', 46), ('same', 46), ('expense', 46), ('introduced', 46), ('25', 46), ('though', 46), ('exception', 46), ('facility', 46), ('proper', 46), ('broken', 46), ('respectively', 46), ('germany', 46), ('avoid', 46), ('eligible', 46), ('literacy', 46), ('local', 46), ('consumer', 46), ('access', 46), ('sales', 46), ('terms', 46), ('swimming', 46), ('committee', 46), ('distance', 46), ('show', 46), ('therefore', 46), ('workshops', 46), ('law', 46), ('sciences', 46), ('delegates', 46), ('significantly', 46), ('matches', 46), ('balance', 46), ('enhance', 46), ('no.', 46), ('maps', 46), ('band', 46), ('male', 46), ('beat', 46), ('laid', 46), ('waiting', 46), ('greater', 46), ('lived', 46), ('respond', 46), ('pressure', 46), ('likely', 46), ('cardiff', 46), ('contemporary', 46), ('basis', 46), ('representatives', 46), ('implications', 46), ('absence', 46), ('animals', 46), ('expectations', 46), ('single', 46), ('join', 46), ('internal', 46), ('300', 46), ('edition', 46), ('store', 46), ('through', 46), ('communications', 46), ('directly', 46), ('reading', 46), ('recently', 46), ('forced', 46), ('acts', 46), ('c', 46), ('movement', 46), ('report', 46), ('bring', 46), ('find', 46), ('task', 46), ('xp', 46), ('nothing', 46), ('right', 46), ('london', 46), ('purpose', 46), ('chapter', 46), ('visible', 46), ('sources', 46), ('thought', 46), ('fly', 46), ('1999', 46), ('fresh', 46), ('95', 46), ('combination', 46), ('job', 46), ('trying', 46), ('window', 46), ('again', 46), ('frequently', 46), ('index', 46), ('et', 46), ('offering', 46), ('service', 46), ('produced', 46), ('hit', 46), ('stated', 46), ('phone', 46), ('implementation', 46), ('september', 46), ('attempt', 46), ('+44', 46), ('miles', 46), ('1998', 46), ('names', 46), ('trusts', 46), ('collections', 46), ('collected', 46), ('0845', 46), ('pieces', 46), ('bodies', 46), ('industry', 46), ('explain', 46), ('connected', 46), ('method', 46), ('decide', 46), ('marine', 46), ('paragraph', 46), ('noise', 46), ('wish', 46), ('choice', 46), ('councillor', 46), ('concern', 46), ('2', 46), ('normal', 46), ('contents', 46), ('chain', 46), ('councils', 46), ('treated', 46), ('fox', 46), ('adult', 46), ('consumers', 46), ('institution', 46), ('score', 46), ('code', 46), ('tests', 46), ('=', 46), ('main', 46), ('13', 46), ('queen', 46), ('rugby', 46), ('date', 46), ('risks', 46), ('rather', 46), ('secret', 46), ('after', 46), ('occur', 46), ('studies', 46), ('paper', 46), ('friendly', 46), ('completely', 46), ('cash', 46), ('japan', 46), ('organization', 46), ('dave', 46), ('stuff', 46), ('digital', 46), ('hands', 46), ('requirement', 46), ('explore', 46), ('occurs', 46), ('goes', 46), ('justice', 46), ('property', 46), ('simple', 46), ('adobe', 46), ('successful', 46), ('styles', 46), ('thank', 46), ('trade', 46), ('crew', 46), ('complete', 46), ('garden', 46), ('27', 46), ('winner', 46), ('scene', 46), ('minor', 46), ('link', 46), ('policy', 46), ('laws', 46), ('text', 46), ('pilot', 46), ('gone', 46), ('2003', 46), ('booking', 46), ('else', 46), ('irish', 46), ('especially', 46), ('site', 46), ('party', 46), ('extent', 46), ('robert', 46), ('enables', 46), ('patients', 46), ('registered', 46), ('numerous', 46), ('card', 46), ('framework', 46), ('professor', 46), ('sense', 46), ('place', 46), ('voice', 46), ('force', 46), ('bear', 46), ('printed', 46), ('historic', 46), ('beauty', 46), ('answer', 46), ('hence', 46), ('weekend', 46), ('please', 46), ('promote', 46), ('become', 46), ('pdf', 46), ('1', 46), ('normally', 46), ('screen', 46), ('appointed', 46), ('ten', 46), ('committed', 46), ('house', 46), ('guidance', 46), ('cable', 46), ('tell', 46), ('full', 46), ('chinese', 46), ('serving', 46), ('effective', 46), ('accounts', 46), ('opening', 46), ('picked', 46), ('refer', 46), ('born', 46), ('page', 46), ('weather', 46), ('dream', 46), ('degree', 46), ('creative', 46), ('india', 46), ('liberal', 46), ('spiritual', 46), ('day', 46), ('contact', 46), ('characters', 46), ('varied', 46), ('experiments', 46), ('summit', 46), ('closely', 46), ('story', 46), ('video', 46), ('consists', 46), ('insurance', 46), ('except', 46), ('drive', 46), ('iron', 46), ('60', 46), ('write', 46), ('nurse', 46), ('push', 46), ('know', 46), ('cat', 46), ('god', 46), ('officer', 46), ('name', 46), ('room', 46), ('used', 46), ('sharing', 46), ('wrong', 46), ('libraries', 46), ('lessons', 46), ('results', 46), ('points', 46), ('temporary', 46), ('five', 46), ('minister', 46), ('population', 46), ('civil', 46), ('runs', 46), ('ability', 46), ('states', 46), ('definition', 46), ('sussex', 46), ('chemical', 46), ('follows', 46), ('efficient', 46), ('match', 46), ('aim', 46), ('men', 46), ('stay', 46), ('green', 46), ('lecture', 46), ('luck', 46), ('planned', 46), ('proposal', 46), ('faith', 46), ('kitchen', 46), ('regulations', 46), ('sum', 46), ('found', 46), ('get', 46), ('range', 46), ('biology', 46), ('protocol', 46), ('directed', 46), ('editors', 46), ('parallel', 46), ('long-term', 46), ('themes', 46), ('consistent', 46), ('natural', 46), ('march', 46), ('involve', 46), ('document', 46), ('gas', 46), ('agreement', 46), ('money', 46), ('august', 46), ('identity', 46), ('believed', 46), ('left', 46), ('surface', 46), ('fees', 46), ('tel', 46), ('flying', 46), ('spent', 46), ('amongst', 46), ('classic', 46), ('door', 46), ('leave', 46), ('forces', 46), ('replacement', 46), ('plenty', 46), ('saturday', 46), ('click', 46), ('america', 46), ('display', 46), ('unable', 46), ('individual', 46), ('scottish', 46), ('philosophy', 46), ('updated', 46), ('graham', 46), ('second', 46), ('praise', 46), ('charges', 46), (').', 46), ('self', 46), ('difficulties', 46), ('rare', 46), ('achieve', 46), ('flow', 46), ('session', 46), ('acrobat', 46), ('fill', 46), ('request', 46), ('much', 46), ('operate', 46), ('middle', 46), ('career', 46), ('expect', 46), ('evidence', 46), ('outline', 46), ('bit', 46), ('here', 46), ('awareness', 46), ('certainly', 46), ('think', 46), ('welsh', 46), ('says', 46), ('view', 46), ('citizens', 46), ('native', 46), ('lost', 46), ('detailed', 46), ('saw', 46), ('couple', 46), ('checked', 46), ('waste', 46), ('currently', 46), ('summary', 46), ('y', 46), ('third', 46), ('reason', 46), ('contracts', 46), ('land', 46), ('bus', 46), ('milk', 46), ('old', 46), ('needed', 46), ('poker', 46), ('claims', 46), ('directory', 46), ('introduction', 46), ('files', 46), ('clear', 46), ('courses', 46), ('asking', 46), ('favourite', 46), ('comedy', 46), ('phd', 46), ('wednesday', 46), ('roll', 46), ('parties', 46), ('fit', 46), ('begins', 46), ('africa', 46), ('getting', 46), ('options', 46), ('seeing', 46), ('identify', 46), ('parking', 46), ('rule', 46), ('description', 46), ('cut', 46), ('partnerships', 46), ('cells', 46), ('worked', 46), ('hundred', 46), ('musical', 46), ('families', 46), ('back', 46), ('u.s.', 46), ('idea', 46), ('nation', 46), ('meet', 46), ('networks', 46), ('actions', 46), ('prime', 46), ('mention', 46), ('10', 46), ('abroad', 46), ('kept', 46), ('3rd', 46), ('relation', 46), ('assistance', 46), ('prepared', 46), ('steel', 46), ('player', 46), ('might', 46), ('agenda', 46), ('lets', 46), ('rich', 46), ('evening', 46), ('granted', 46), ('attack', 46), ('geography', 46), ('yes', 46), ('drawing', 46), ('away', 46), ('thinking', 46), ('aircraft', 46), ('reply', 46), ('advice', 46), ('being', 46), ('served', 46), ('charles', 46), ('beyond', 46), ('quite', 46), ('study', 46), ('ancient', 46), ('dance', 46), ('buy', 46), ('chair', 46), ('completed', 46), ('volume', 46), ('finish', 46), ('benefits', 46), ('mr.', 46), ('effects', 46), ('aims', 46), ('wilson', 46), ('step', 46), ('historical', 46), ('largest', 46), ('35', 46), ('indeed', 46), ('stories', 46), ('concrete', 46), ('birth', 46), ('reception', 46), ('deep', 46), ('specialist', 46), ('mainly', 46), ('personal', 46), ('organic', 46), ('done', 46), ('raising', 46), ('parliament', 46), ('plants', 46), ('since', 46), ('expert', 46), ('make', 46), ('school', 46), ('addition', 46), ('disabled', 46), ('smoking', 46), ('bush', 46), ('album', 46), ('located', 46), ('grow', 46), ('affordable', 46), ('told', 46), ('dont', 46), ('short', 46), ('order', 46), ('increasingly', 46), ('could', 46), ('web', 46), ('causes', 46), ('ford', 46), ('exclusive', 46), ('southern', 46), ('groups', 46), ('slightly', 46), ('advertising', 46), ('corporate', 46), ('bank', 46), ('estate', 46), ('sports', 46), ('agency', 46), ('using', 46), ('infection', 46), ('innovative', 46), ('application', 46), ('accessible', 46), ('symptoms', 46), ('raised', 46), ('phase', 46), ('meetings', 46), ('*', 46), ('looking', 46), ('extra', 46), ('suggest', 46), ('tutor', 46), ('given', 46), ('additional', 46), ('well', 46), ('came', 46), ('speech', 46), ('foreign', 46), ('african', 46), ('instructions', 46), ('components', 46), ('journey', 46), ('division', 46), ('1990', 46), ('port', 46), ('guidelines', 46), ('multiple', 46), ('seek', 46), ('cup', 46), ('myself', 46), ('calling', 46), ('moving', 46), ('|', 46), ('identified', 46), ('7', 46), ('climate', 46), ('feedback', 46), ('record', 46), ('temperature', 46), ('established', 46), ('location', 46), ('weeks', 46), ('6.', 46), ('speakers', 46), ('cheap', 46), ('measures', 46), ('equivalent', 46), ('fact', 46), ('further', 46), ('maximum', 46), ('economic', 46), ('whilst', 46), ('standard', 46), ('automatically', 46), ('made', 46), ('contacts', 46), ('90', 46), ('surrounding', 46), ('protection', 46), ('alliance', 46), ('hi', 46), ('intelligence', 46), ('hunting', 46), ('free', 46), ('passed', 46), ('hundreds', 46), ('encourage', 46), ('him', 46), ('processing', 46), ('went', 46), ('charge', 46), ('words', 46), ('growth', 46), ('@', 46), ('studied', 46), ('reporting', 46), ('driving', 46), ('presentations', 46), ('classes', 46), ('recorded', 46), ('country', 46), ('summer', 46), ('culture', 46), ('pages', 46), ('return', 46), ('rain', 46), ('track', 46), ('healthy', 46), ('matter', 46), ('default', 46), ('wanted', 46), ('weekly', 46), ('statement', 46), ('issue', 46), ('editor', 46), ('quarter', 46), ('none', 46), ('thus', 46), ('}', 46), ('context', 46), ('ireland', 46), ('before', 46), ('height', 46), ('examination', 46), ('linked', 46), ('instance', 46), ('accident', 46), ('need', 46), ('beginning', 46), ('investment', 46), ('receiving', 46), ('doctor', 46), ('conditions', 46), ('massive', 46), ('sought', 46), ('air', 46), ('mountain', 46), ('too', 46), ('paid', 46), ('flat', 46), ('executive', 46), ('tables', 46), ('type', 46), ('mount', 46), ('dining', 46), ('apply', 46), ('success', 46), ('prices', 46), ('extended', 46), ('issued', 46), ('team', 46), ('great', 46), ('recognition', 46), ('assessed', 46), ('manage', 46), ('piece', 46), ('putting', 46), ('improvements', 46), ('together', 46), ('sit', 46), ('adopted', 46), ('20', 46), ('prove', 46), ('goals', 46), ('powerful', 46), ('immediately', 46), ('previously', 46), ('supports', 46), (\"'d\", 46), ('artist', 46), ('sand', 46), ('moved', 46), ('rights', 46), ('several', 46), ('election', 46), ('she', 46), ('earlier', 46), ('broad', 46), ('lord', 46), ('hall', 46), ('table', 46), ('driver', 46), ('current', 46), ('legal', 46), ('chairman', 46), ('advise', 46), ('asia', 46), ('dog', 46), ('win', 46), ('sun', 46), ('state', 46), ('16', 46), ('baby', 46), ('russia', 46), ('probably', 46), ('complaint', 46), ('genetic', 46), ('practical', 46), ('mary', 46), ('participants', 46), ('medical', 46), ('falling', 46), ('western', 46), ('iii', 46), ('rising', 46), ('150', 46), ('added', 46), ('response', 46), ('reduction', 46), ('students', 46), ('parent', 46), ('doubt', 46), ('stored', 46), ('selling', 46), ('formal', 46), ('17th', 46), ('recommend', 46), ('line', 46), ('heavy', 46), ('print', 46), ('awarded', 46), ('{', 46), ('status', 46), ('relations', 46), ('songs', 46), ('exist', 46), ('domestic', 46), ('colour', 46), ('character', 46), ('happy', 46), ('devices', 46), ('sort', 46), ('spectrum', 46), ('select', 46), ('19', 46), ('deals', 46), ('entertainment', 46), ('social', 46), ('individuals', 46), ('strategy', 46), ('start', 46), ('brand', 46), ('prize', 46), ('spending', 46), ('investigation', 46), ('provision', 46), ('tour', 46), ('eye', 46), ('fruit', 46), ('pointed', 46), ('psychology', 46), ('provide', 46), ('drop', 46), ('interactive', 46), ('watch', 46), ('christ', 46), ('reader', 46), ('inside', 46), ('compensation', 46), ('complaints', 46), ('try', 46), ('%', 46), ('floor', 46), ('higher', 46), ('prevent', 46), ('background', 46), ('festival', 46), ('brown', 46), ('jim', 46), ('speaker', 46), ('equipment', 46), ('markets', 46), ('comment', 46), ('published', 46), ('killed', 46), ('vital', 46), ('concerns', 46), ('insight', 46), ('labour', 46), ('formed', 46), ('confirmed', 46), ('hill', 46), ('delivering', 46), ('suddenly', 46), ('italy', 46), ('biggest', 46), ('talking', 46), ('chance', 46), ('magic', 46), ('colours', 46), ('assembly', 46), ('replies', 46), ('atmosphere', 46), ('generally', 46), ('subsequently', 46), ('square', 46), ('performed', 46), ('oct', 46), ('departments', 46), ('3.', 46), ('official', 46), ('required', 46), ('letters', 46), ('years', 46), ('person', 46), ('held', 46), ('guest', 46), ('railway', 46), ('brief', 46), ('looked', 46), ('expertise', 46), ('overview', 46), ('listening', 46), ('leaving', 46), ('conjunction', 46), ('employment', 46), ('movie', 46), ('coffee', 46), ('valley', 46), ('financing', 46), ('initiatives', 46), ('poor', 46), ('reach', 46), ('guide', 46), ('subjects', 46), ('far', 46), ('candidates', 46), ('dangerous', 46), ('a.', 46), ('goods', 46), ('ministry', 46), ('called', 46), ('appeared', 46), ('knowledge', 46), ('priority', 46), ('appears', 46), ('unusual', 46), ('conducted', 46), ('tells', 46), ('learning', 46), ('heart', 46), ('injury', 46), ('exposure', 46), ('gp', 46), ('equality', 46), ('rate', 46), ('c.', 46), ('extensive', 46), ('manufacturing', 46), ('users', 46), ('represent', 46), ('adults', 46), ('available', 46), ('recruitment', 46), ('audience', 46), ('advanced', 46), ('mother', 46), ('progress', 46), ('2007', 46), ('1997', 46), ('earth', 46), ('15', 46), ('uk', 46), ('sheet', 46), ('carry', 46), ('event', 46), ('final', 46), ('m.', 46), ('teachers', 46), ('reports', 46), ('mum', 46), ('nice', 46), ('birmingham', 46), ('competitive', 46), ('business', 46), ('difficult', 46), ('faces', 46), (\"'re\", 46), ('guests', 46), ('alan', 46), ('database', 46), ('nurses', 46), ('sex', 46), ('union', 46), ('conduct', 46), ('marked', 46), ('warning', 46), ('lower', 46), ('attractive', 46), ('loss', 46), ('kingdom', 46), ('19th', 46), ('word', 46), ('ages', 46), ('and/or', 46), ('standing', 46), ('set', 46), ('countryside', 46), ('gods', 46), ('performance', 46), ('password', 46), ('farm', 46), ('highly', 46), ('sentence', 46), ('growing', 46), ('girl', 46), ('hospital', 46), ('capacity', 46), ('young', 46), ('bird', 46), ('variety', 46), ('bay', 46), ('religion', 46), ('acquired', 46), ('replaced', 46), ('operations', 46), ('reasons', 46), ('strength', 46), ('gap', 46), ('travelling', 46), ('pm', 46), ('22', 46), ('expressed', 46), ('26', 46), ('process', 46), ('locally', 46), ('wants', 46), ('quot', 46), ('involved', 46), ('microsoft', 46), ('married', 46), ('2nd', 46), ('scientists', 46), ('impossible', 46), ('scheme', 46), ('trading', 46), ('won', 46), ('forward', 46), ('efforts', 46), ('onto', 46), ('s', 46), ('coast', 46), ('resources', 46), ('pub', 46), ('late', 46), ('agents', 46), ('graphics', 46), ('applied', 46), ('deck', 46), ('church', 46), ('fear', 46), ('en', 46), ('james', 46), ('delivery', 46), ('strong', 46), ('relatively', 46), ('fully', 46), ('street', 46), ('million', 46), ('longer', 46), ('revenue', 46), ('becoming', 46), ('outside', 46), ('soft', 46), ('above', 46), ('aware', 46), ('la', 46), ('understand', 46), ('figure', 46), ('vary', 46), ('mentioned', 46), ('parents', 46), ('joined', 46), ('analysis', 46), ('france', 46), ('complex', 46), ('basic', 46), ('shift', 46), ('photos', 46), ('nature', 46), ('bright', 46), ('preparing', 46), ('storage', 46), ('collection', 46), ('focus', 46), ('elected', 46), ('truth', 46), ('wedding', 46), (\"'ve\", 46), ('direct', 46), ('monitoring', 46), ('fighting', 46), ('help', 46), ('benefit', 46), ('artists', 46), ('commission', 46), ('bed', 46), ('plant', 46), ('jewish', 46), ('references', 46), ('require', 46), ('licensing', 46), ('vehicles', 46), ('classroom', 46), ('outstanding', 46), ('run', 46), ('means', 46), ('retail', 46), ('red', 46), ('improve', 46), ('put', 46), ('filled', 46), ('duty', 46), ('tuesday', 46), ('proposed', 46), ('communication', 46), ('meeting', 46), ('st.', 46), ('al', 46), ('proved', 46), ('times', 46), ('computer', 46), ('14', 46), ('architecture', 46), ('round', 46), ('written', 46), ('becomes', 46), ('statistics', 46), ('6', 46), ('specifically', 46), ('within', 46), ('voluntary', 46), ('often', 46), ('/', 46), ('amazing', 46), ('depend', 46), ('48', 46), ('sport', 46), ('eyes', 46), ('fantastic', 46), ('degrees', 46), ('windows', 46), ('collaborative', 46), ('noted', 46), ('children', 46), ('undertaken', 46), ('live', 46), ('female', 46), ('park', 46), ('smaller', 46), ('behind', 46), ('shot', 46), ('able', 46), ('tourism', 46), ('giving', 46), ('share', 46), ('address', 46), ('long', 46), ('owners', 46), ('newspaper', 46), ('part-time', 46), ('message', 46), ('permanent', 46), ('harry', 46), ('responsible', 46), ('boy', 46), ('however', 46), ('permission', 46), ('conflict', 46), ('death', 46), ('peter', 46), ('opera', 46), ('unit', 46), ('systems', 46), ('profile', 46), ('initiative', 46), ('funding', 46), ('keep', 46), ('writer', 46), ('pc', 46), ('delighted', 46), ('world', 46), ('leaves', 46), ('lucky', 46), ('differences', 46), ('nick', 46), ('replied', 46), ('connections', 46), ('rescue', 46), ('carrying', 46), ('opportunity', 46), ('even', 46), ('inspection', 46), ('8', 46), ('recommendations', 46), ('felt', 46), ('lot', 46), ('choose', 46), ('just', 46), ('marketing', 46), ('roof', 46), ('active', 46), ('1996', 46), ('year', 46), ('organised', 46), ('argue', 46), ('paintings', 46), ('offered', 46), ('patient', 46), ('pupils', 46), ('proceedings', 46), ('knowing', 46), ('+', 46), ('21st', 46), ('info', 46), ('hot', 46), ('powers', 46), ('affects', 46), ('circumstances', 46), ('engineering', 46), ('partner', 46), ('played', 46), ('locations', 46), ('martin', 46), ('29th', 46), ('quiet', 46), ('reasonable', 46), ('control', 46), ('meets', 46), ('near', 46), ('dates', 46), ('conservative', 46), ('chosen', 46), ('alcohol', 46), ('realise', 46), ('glass', 46), ('membership', 46), ('football', 46), ('bands', 46), ('x', 46), ('rapid', 46), ('resolution', 46), ('bridge', 46), ('woman', 46), ('already', 46), ('supporters', 46), ('toy', 46), ('originally', 46), ('origin', 46), ('ethnic', 46), ('effectively', 46), ('feeling', 46), ('actively', 46), ('bible', 46), ('somewhere', 46), ('readers', 46), ('signal', 46), ('account', 46), ('trip', 46), ('cycle', 46), ('3', 46), ('educational', 46), ('throughout', 46), ('etc.', 46), ('structures', 46), ('discussed', 46), ('visits', 46), ('always', 46), ('tested', 46), ('dry', 46), ('guess', 46), ('kind', 46), ('alongside', 46), ('police', 46), ('winning', 46), ('touch', 46), ('18', 46), ('relationship', 46), ('never', 46), ('straight', 46), ('proposals', 46), ('believe', 46), ('dr', 46), ('related', 46), ('describes', 46), ('kent', 46), ('northern', 46), ('r.', 46), ('jun', 46), ('league', 46), ('argument', 46), ('sorry', 46), ('experience', 46), ('manchester', 46), ('note', 46), ('j', 46), ('feel', 46), ('nursery', 46), ('fellow', 46), ('materials', 46), ('holidays', 46), ('option', 46), ('corner', 46), ('food', 46), ('literary', 46), ('give', 46), ('award', 46), ('loved', 46), ('december', 49), ('why', 49), ('want', 49), ('virtual', 49), ('magazine', 51), ('less', 54), ('ian', 59), ('metal', 59), ('ideas', 63), ('another', 63), ('news', 63), ('advantage', 63), ('seminar', 69), ('beautiful', 69), ('camera', 69), ('considered', 69), ('seem', 69), ('1989', 69), ('reached', 69), ('captain', 69), ('papers', 69), ('confidence', 69), ('check', 69), ('spot', 69), ('pool', 69), ('changed', 69), ('council', 69), ('women', 69), ('dead', 69), ('during', 69), ('question', 69), ('writers', 73), ('elements', 77), ('forum', 77), ('solution', 77), ('style', 77), ('library', 77), ('oil', 77), ('covering', 77), ('stopped', 77), ('yorkshire', 77), ('universal', 77), ('limits', 77), ('series', 77), ('latter', 77), ('modules', 77), ('student', 77), ('commitment', 77), ('winter', 77), ('output', 77), ('across', 77), ('attached', 77), ('united', 77), ('south', 77), ('june', 77), ('deliver', 77), ('bbc', 77), ('gain', 77), ('28', 77), ('minimum', 77), ('tools', 77), ('traditional', 77), ('reserved', 77), ('settlement', 77), ('once', 77), ('demand', 77), ('meant', 77), ('ensures', 77), ('discrimination', 77), ('button', 77), ('net', 77), ('finding', 77), ('specific', 77), ('grounds', 77), ('containing', 77), ('still', 77), ('parts', 77), ('lives', 77), (']', 77), ('fund', 77), ('greatly', 77), ('mean', 77), ('ready', 77), ('along', 77), ('finds', 77), ('larger', 77), ('solid', 77), ('jesus', 77), ('accompanied', 77), ('consultation', 77), ('february', 77), ('registration', 77), ('perform', 77), ('block', 79), ('deputy', 79), ('possibly', 79), ('encouraged', 79), ('browser', 81), ('interest', 81), ('mortgage', 81), ('subject', 81), ('poverty', 81), ('hotel', 81), ('studio', 82), ('history', 82), ('article', 84), ('bars', 85), ('positions', 85), ('village', 85), ('properties', 85), ('spirit', 86), ('slowly', 87), ('weight', 87), ('battle', 87), ('demands', 87), ('involving', 87), ('wood', 89), ('numbers', 89), ('abstract', 89), ('critical', 91), ('institute', 91), ('remember', 95), ('lead', 95), ('messages', 96), ('desk', 96), ('approximately', 97)]\n"
     ]
    }
   ],
   "source": [
    "# K-means Clustering\n",
    "from sklearn.cluster import KMeans\n",
    "\n",
    "cmatrix = populate_cmatrix(file_name, iunigrams, idimensions, window = 5, leftonly=True, rightonly=True)\n",
    "svd = TruncatedSVD(n_components = 100, random_state=42)\n",
    "svd.fit(cmatrix)\n",
    "cmatrix = svd.transform(cmatrix)\n",
    "\n",
    "kmeans = KMeans(n_clusters=100, random_state=0).fit(cmatrix)\n",
    "i=0\n",
    "wordTolabel={}\n",
    "for word in dimensions:\n",
    "    wordTolabel[word] = kmeans.labels_[i]\n",
    "    i=i+1\n",
    "sortedByLabel = sorted(wordTolabel.items(), key = lambda x : x[1], reverse = False)\n",
    "print(sortedByLabel)"
   ]
  },
  {
   "cell_type": "markdown",
   "metadata": {},
   "source": [
    "<b>OBSERVATIONS:</b>\n",
    "*************\n",
    "The words didnt group into clusters of different POS tags. Majority of words are gouped into cluster 0. When number of clusters are increased, we find a different clustering scheme where words are distributed among other clusters also.\n",
    "The above is the experiment with n_clusters = 100"
   ]
  },
  {
   "cell_type": "code",
   "execution_count": null,
   "metadata": {
    "collapsed": true
   },
   "outputs": [],
   "source": []
  }
 ],
 "metadata": {
  "kernelspec": {
   "display_name": "Python 2",
   "language": "python",
   "name": "python2"
  },
  "language_info": {
   "codemirror_mode": {
    "name": "ipython",
    "version": 2
   },
   "file_extension": ".py",
   "mimetype": "text/x-python",
   "name": "python",
   "nbconvert_exporter": "python",
   "pygments_lexer": "ipython2",
   "version": "2.7.12"
  }
 },
 "nbformat": 4,
 "nbformat_minor": 1
}
